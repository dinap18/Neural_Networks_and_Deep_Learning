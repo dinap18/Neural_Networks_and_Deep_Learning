{
  "nbformat": 4,
  "nbformat_minor": 0,
  "metadata": {
    "kernelspec": {
      "display_name": "Python 3",
      "language": "python",
      "name": "python3"
    },
    "language_info": {
      "codemirror_mode": {
        "name": "ipython",
        "version": 3
      },
      "file_extension": ".py",
      "mimetype": "text/x-python",
      "name": "python",
      "nbconvert_exporter": "python",
      "pygments_lexer": "ipython3",
      "version": "3.5.2"
    },
    "colab": {
      "name": "Assignment 4 - CNN Model 5.ipynb",
      "provenance": [],
      "collapsed_sections": []
    },
    "accelerator": "GPU"
  },
  "cells": [
    {
      "cell_type": "code",
      "metadata": {
        "id": "F4D8NDgvdxK4"
      },
      "source": [
        "#Dina Pinchuck "
      ],
      "execution_count": null,
      "outputs": []
    },
    {
      "cell_type": "markdown",
      "metadata": {
        "id": "9AJltJa1Bajf"
      },
      "source": [
        "No question to answer here, just need to build the model."
      ]
    },
    {
      "cell_type": "markdown",
      "metadata": {
        "id": "bIxsHxttP2k5"
      },
      "source": [
        "## Building a CNN to classify images in the CIFAR-10 Dataset\n",
        "\n",
        "We will work with the CIFAR-10 Dataset.  This is a well-known dataset for image classification, which consists of 60000 32x32 color images in 10 classes, with 6000 images per class. There are 50000 training images and 10000 test images.\n",
        "\n",
        "The 10 classes are:\n",
        "\n",
        "<ol start=\"0\">\n",
        "<li> airplane\n",
        "<li>  automobile\n",
        "<li> bird\n",
        "<li>  cat\n",
        "<li> deer\n",
        "<li> dog\n",
        "<li>  frog\n",
        "<li>  horse\n",
        "<li>  ship\n",
        "<li>  truck\n",
        "</ol>\n",
        "\n",
        "For details about CIFAR-10 see:\n",
        "https://www.cs.toronto.edu/~kriz/cifar.html\n",
        "\n",
        "For a compilation of published performance results on CIFAR 10, see:\n",
        "http://rodrigob.github.io/are_we_there_yet/build/classification_datasets_results.html\n",
        "\n",
        "---\n",
        "\n",
        "### Building Convolutional Neural Nets\n",
        "\n",
        "In this exercise we will build and train our first convolutional neural networks.  In the first part, we walk through the different layers and how they are configured.  In the second part, you will build your own model, train it, and compare the performance.\n",
        "\n",
        "Much of this code is from Intel's course at: https://software.intel.com/content/dam/develop/public/us/en/downloads/intel-dl101-class6.zip, but I added some tweaks of my own ;)"
      ]
    },
    {
      "cell_type": "code",
      "metadata": {
        "id": "eQC8thNfP2k_"
      },
      "source": [
        "from __future__ import print_function\n",
        "import keras\n",
        "from keras.datasets import cifar10\n",
        "from keras.preprocessing.image import ImageDataGenerator\n",
        "from keras.models import Sequential\n",
        "from keras.layers import Dense, Dropout, Activation, Flatten\n",
        "from keras.layers import Conv2D, MaxPooling2D\n",
        "from keras.optimizers import Adam, SGD, RMSprop\n",
        "from tensorflow.keras import layers\n",
        "\n",
        "import matplotlib.pyplot as plt\n",
        "%matplotlib inline"
      ],
      "execution_count": null,
      "outputs": []
    },
    {
      "cell_type": "code",
      "metadata": {
        "id": "wfQekVzZP2lA",
        "colab": {
          "base_uri": "https://localhost:8080/"
        },
        "outputId": "178b4587-8f54-475b-e93f-f14468f502ac"
      },
      "source": [
        "# The data, shuffled and split between train and test sets:\n",
        "(x_train, y_train), (x_test, y_test) = cifar10.load_data()\n",
        "print('x_train shape:', x_train.shape)\n",
        "print(x_train.shape[0], 'train samples')\n",
        "print(x_test.shape[0], 'test samples')"
      ],
      "execution_count": null,
      "outputs": [
        {
          "output_type": "stream",
          "text": [
            "Downloading data from https://www.cs.toronto.edu/~kriz/cifar-10-python.tar.gz\n",
            "170500096/170498071 [==============================] - 2s 0us/step\n",
            "x_train shape: (50000, 32, 32, 3)\n",
            "50000 train samples\n",
            "10000 test samples\n"
          ],
          "name": "stdout"
        }
      ]
    },
    {
      "cell_type": "code",
      "metadata": {
        "id": "Nc4W3uKIP2lA",
        "colab": {
          "base_uri": "https://localhost:8080/"
        },
        "outputId": "c5669491-65ef-452b-aceb-d6d983bb63da"
      },
      "source": [
        "## Each image is a 32 x 32 x 3 numpy array\n",
        "x_train[444].shape"
      ],
      "execution_count": null,
      "outputs": [
        {
          "output_type": "execute_result",
          "data": {
            "text/plain": [
              "(32, 32, 3)"
            ]
          },
          "metadata": {
            "tags": []
          },
          "execution_count": 4
        }
      ]
    },
    {
      "cell_type": "markdown",
      "metadata": {
        "id": "P2OIsQqOnKAN"
      },
      "source": [
        "Notice that this time the pictures have color (RGB color with 3 channels)."
      ]
    },
    {
      "cell_type": "code",
      "metadata": {
        "id": "ePODxy5uP2lA",
        "colab": {
          "base_uri": "https://localhost:8080/",
          "height": 283
        },
        "outputId": "6e346698-29d4-42d2-a57b-f48d90484bba"
      },
      "source": [
        "## Let's look at one of the images\n",
        "\n",
        "print(y_train[444])\n",
        "plt.imshow(x_train[444]);"
      ],
      "execution_count": null,
      "outputs": [
        {
          "output_type": "stream",
          "text": [
            "[9]\n"
          ],
          "name": "stdout"
        },
        {
          "output_type": "display_data",
          "data": {
            "image/png": "[encoded data removed]",
            "text/plain": [
              "<Figure size 432x288 with 1 Axes>"
            ]
          },
          "metadata": {
            "tags": [],
            "needs_background": "light"
          }
        }
      ]
    },
    {
      "cell_type": "code",
      "metadata": {
        "collapsed": true,
        "id": "czYvqoRAP2lA",
        "colab": {
          "base_uri": "https://localhost:8080/"
        },
        "outputId": "a61689fb-188c-4c2f-9d71-481908bef93b"
      },
      "source": [
        "num_classes = 10\n",
        "print(y_train[444])\n",
        "y_train = keras.utils.to_categorical(y_train, num_classes)\n",
        "y_test = keras.utils.to_categorical(y_test, num_classes)"
      ],
      "execution_count": null,
      "outputs": [
        {
          "output_type": "stream",
          "text": [
            "[9]\n"
          ],
          "name": "stdout"
        }
      ]
    },
    {
      "cell_type": "code",
      "metadata": {
        "id": "srcBlBlVP2lB",
        "colab": {
          "base_uri": "https://localhost:8080/"
        },
        "outputId": "fcce3f4b-7608-43f4-90ec-4e466de24a84"
      },
      "source": [
        "# now instead of classes described by an integer between 0-9 we have a vector with a 1 in the (Pythonic) 9th position\n",
        "y_train[444]"
      ],
      "execution_count": null,
      "outputs": [
        {
          "output_type": "execute_result",
          "data": {
            "text/plain": [
              "array([0., 0., 0., 0., 0., 0., 0., 0., 0., 1.], dtype=float32)"
            ]
          },
          "metadata": {
            "tags": []
          },
          "execution_count": 7
        }
      ]
    },
    {
      "cell_type": "code",
      "metadata": {
        "collapsed": true,
        "id": "wSh-NIvhP2lB"
      },
      "source": [
        "# As before, let's make everything float and scale\n",
        "x_train = x_train.astype('float32')\n",
        "x_test = x_test.astype('float32')\n",
        "x_train /= 255\n",
        "x_test /= 255"
      ],
      "execution_count": null,
      "outputs": []
    },
    {
      "cell_type": "markdown",
      "metadata": {
        "id": "i8eluWt3P2lB"
      },
      "source": [
        "## Keras Layers for CNNs\n",
        "- Previously we built Neural Networks using primarily the Dense, Activation and Dropout Layers.\n",
        "\n",
        "- Here we will describe how to use some of the CNN-specific layers provided by Keras\n",
        "\n",
        "### Conv2D\n",
        "\n",
        "```python\n",
        "keras.layers.convolutional.Conv2D(filters, kernel_size, strides=(1, 1), padding='valid', data_format=None, dilation_rate=(1, 1), activation=None, use_bias=True, kernel_initializer='glorot_uniform', bias_initializer='zeros', kernel_regularizer=None, bias_regularizer=None, activity_regularizer=None, kernel_constraint=None, bias_constraint=None, **kwargs)\n",
        "```\n",
        "\n",
        "A few parameters explained:\n",
        "- `filters`: the number of filter used per location.  In other words, the depth of the output.\n",
        "- `kernel_size`: an (x,y) tuple giving the height and width of the kernel to be used\n",
        "- `strides`: and (x,y) tuple giving the stride in each dimension.  Default is `(1,1)`\n",
        "- `padding`: With \"SAME\" padding, if you use a stride of 1, the layer's outputs will have the same spatial dimensions as its inputs. (otherwise you will loose size due to the filter)\n",
        "- `input_shape`: required only for the first layer\n",
        "\n",
        "Note, the size of the output will be determined by the kernel_size, strides\n",
        "\n",
        "### MaxPooling2D\n",
        "`keras.layers.pooling.MaxPooling2D(pool_size=(2, 2), strides=None, padding='valid', data_format=None)`\n",
        "\n",
        "- `pool_size`: the (x,y) size of the grid to be pooled.\n",
        "- `strides`: Assumed to be the `pool_size` unless otherwise specified\n",
        "\n",
        "### Flatten\n",
        "Turns its input into a one-dimensional vector (per instance).  Usually used when transitioning between convolutional layers and fully connected layers.\n",
        "\n",
        "---\n",
        "\n",
        "## First CNN\n",
        "Below we will build our first CNN.  For demonstration purposes (so that it will train quickly) it is not very deep and has relatively few parameters.  We use strides of 2 in the first two convolutional layers which quickly reduces the dimensions of the output.  After a MaxPooling layer, we flatten, and then have a single fully connected layer before our final classification layer."
      ]
    },
    {
      "cell_type": "code",
      "metadata": {
        "id": "xd7SfmLsP2lC",
        "colab": {
          "base_uri": "https://localhost:8080/"
        },
        "outputId": "93b0b63a-01ed-4d48-9157-69d34a64d167"
      },
      "source": [
        "# Let's build a CNN using Keras' Sequential capabilities\n",
        "\n",
        "#Model 5's architecture - Conv -> Conv -> MaxPool -> Conv -> Conv -> MaxPool -> (Flatten) -> Dense -> Final Classification\n",
        "#Stride is lowered to one so that the layers will be big enough\n",
        "\n",
        "model_5 = Sequential()\n",
        "\n",
        "\n",
        "## 5x5 convolution with 1x1 stride and 32 filters\n",
        "model_5.add(Conv2D(32, (5, 5), strides = (1,1), padding='same',\n",
        "                 input_shape=x_train.shape[1:]))\n",
        "model_5.add(Activation('relu'))\n",
        "\n",
        "\n",
        "\n",
        "## Another 5x5 convolution with 1x1 stride and 32 filters\n",
        "model_5.add(Conv2D(32, (5, 5), strides = (1,1))) \n",
        "model_5.add(Activation('relu'))\n",
        "\n",
        "## 2x2 max pooling reduces to 14 x 14 x 32\n",
        "model_5.add(MaxPooling2D(pool_size=(2, 2)))\n",
        "model_5.add(Dropout(0.25))\n",
        "\n",
        "\n",
        "## Another 5x5 convolution with 1x1 stride and 32 filters\n",
        "model_5.add(Conv2D(32, (5, 5), strides = (1,1))) \n",
        "model_5.add(Activation('relu'))\n",
        "\n",
        "\n",
        "## Another 5x5 convolution with 1x1 stride and 32 filters\n",
        "model_5.add(Conv2D(32, (5, 5), strides = (1,1))) \n",
        "model_5.add(Activation('relu'))\n",
        "\n",
        "## 2x2 max pooling reduces to 3 x 3 x 32\n",
        "model_5.add(MaxPooling2D(pool_size=(2, 2)))\n",
        "model_5.add(Dropout(0.25))\n",
        "\n",
        "\n",
        "## Flatten turns 3x3x32 into 288x1\n",
        "model_5.add(Flatten())\n",
        "model_5.add(Dense(512))\n",
        "model_5.add(Activation('relu'))\n",
        "model_5.add(Dropout(0.5))\n",
        "model_5.add(Dense(num_classes))\n",
        "model_5.add(Activation('softmax'))\n",
        "\n",
        "model_5.summary()"
      ],
      "execution_count": null,
      "outputs": [
        {
          "output_type": "stream",
          "text": [
            "Model: \"sequential\"\n",
            "_________________________________________________________________\n",
            "Layer (type)                 Output Shape              Param #   \n",
            "=================================================================\n",
            "conv2d (Conv2D)              (None, 32, 32, 32)        2432      \n",
            "_________________________________________________________________\n",
            "activation (Activation)      (None, 32, 32, 32)        0         \n",
            "_________________________________________________________________\n",
            "conv2d_1 (Conv2D)            (None, 28, 28, 32)        25632     \n",
            "_________________________________________________________________\n",
            "activation_1 (Activation)    (None, 28, 28, 32)        0         \n",
            "_________________________________________________________________\n",
            "max_pooling2d (MaxPooling2D) (None, 14, 14, 32)        0         \n",
            "_________________________________________________________________\n",
            "dropout (Dropout)            (None, 14, 14, 32)        0         \n",
            "_________________________________________________________________\n",
            "conv2d_2 (Conv2D)            (None, 10, 10, 32)        25632     \n",
            "_________________________________________________________________\n",
            "activation_2 (Activation)    (None, 10, 10, 32)        0         \n",
            "_________________________________________________________________\n",
            "conv2d_3 (Conv2D)            (None, 6, 6, 32)          25632     \n",
            "_________________________________________________________________\n",
            "activation_3 (Activation)    (None, 6, 6, 32)          0         \n",
            "_________________________________________________________________\n",
            "max_pooling2d_1 (MaxPooling2 (None, 3, 3, 32)          0         \n",
            "_________________________________________________________________\n",
            "dropout_1 (Dropout)          (None, 3, 3, 32)          0         \n",
            "_________________________________________________________________\n",
            "flatten (Flatten)            (None, 288)               0         \n",
            "_________________________________________________________________\n",
            "dense (Dense)                (None, 512)               147968    \n",
            "_________________________________________________________________\n",
            "activation_4 (Activation)    (None, 512)               0         \n",
            "_________________________________________________________________\n",
            "dropout_2 (Dropout)          (None, 512)               0         \n",
            "_________________________________________________________________\n",
            "dense_1 (Dense)              (None, 10)                5130      \n",
            "_________________________________________________________________\n",
            "activation_5 (Activation)    (None, 10)                0         \n",
            "=================================================================\n",
            "Total params: 232,426\n",
            "Trainable params: 232,426\n",
            "Non-trainable params: 0\n",
            "_________________________________________________________________\n"
          ],
          "name": "stdout"
        }
      ]
    },
    {
      "cell_type": "markdown",
      "metadata": {
        "id": "hsjjm7nUP2lC"
      },
      "source": [
        "We still have 181K parameters, even though this is a \"small\" model.\n",
        "Note that the formula:\n",
        "\n",
        "output_width=(input_width-kernel_width)/stride+1 \n",
        "holds.  For example in the first layer, input_width=32, kernel_width=5 and stride = 2.  So:\n",
        "output_width=32-5/2 = 14 WITHOUT Padding.  But here padding = same, so output = 32/2 (due to stride)= 16. Without stride = 2 it would have been 32 had padding = same."
      ]
    },
    {
      "cell_type": "code",
      "metadata": {
        "id": "TQJhSyUmP2lD",
        "colab": {
          "base_uri": "https://localhost:8080/"
        },
        "outputId": "3e1b80ea-526f-471e-fdac-b36ec9baea83"
      },
      "source": [
        "batch_size = 32\n",
        "num_epochs = 10\n",
        "\n",
        "# initiate Adam optimizer like in the first example\n",
        "model_5.compile(loss=\"categorical_crossentropy\", optimizer=\"adam\", metrics=[\"accuracy\"])\n",
        "# initiate RMSprop optimizer\n",
        "#opt = keras.optimizers.RMSprop(lr=0.0005, decay=0.00001)\n",
        "\n",
        "# Let's train the model using RMSprop\n",
        "#model_5.compile(loss='categorical_crossentropy',\n",
        "#              optimizer=opt,\n",
        "#              metrics=['accuracy'])\n",
        "\n",
        "model_5.fit(x_train, y_train,\n",
        "              batch_size=batch_size,\n",
        "              epochs=num_epochs,\n",
        "              validation_data=(x_test, y_test),\n",
        "              shuffle=True)"
      ],
      "execution_count": null,
      "outputs": [
        {
          "output_type": "stream",
          "text": [
            "Epoch 1/10\n",
            "1563/1563 [==============================] - 41s 6ms/step - loss: 1.8965 - accuracy: 0.2842 - val_loss: 1.3810 - val_accuracy: 0.5009\n",
            "Epoch 2/10\n",
            "1563/1563 [==============================] - 8s 5ms/step - loss: 1.4129 - accuracy: 0.4891 - val_loss: 1.2324 - val_accuracy: 0.5605\n",
            "Epoch 3/10\n",
            "1563/1563 [==============================] - 8s 5ms/step - loss: 1.2926 - accuracy: 0.5358 - val_loss: 1.1589 - val_accuracy: 0.5805\n",
            "Epoch 4/10\n",
            "1563/1563 [==============================] - 8s 5ms/step - loss: 1.2037 - accuracy: 0.5688 - val_loss: 1.0936 - val_accuracy: 0.6111\n",
            "Epoch 5/10\n",
            "1563/1563 [==============================] - 8s 5ms/step - loss: 1.1333 - accuracy: 0.5932 - val_loss: 1.1002 - val_accuracy: 0.6044\n",
            "Epoch 6/10\n",
            "1563/1563 [==============================] - 8s 5ms/step - loss: 1.1103 - accuracy: 0.6109 - val_loss: 1.0429 - val_accuracy: 0.6270\n",
            "Epoch 7/10\n",
            "1563/1563 [==============================] - 8s 5ms/step - loss: 1.0768 - accuracy: 0.6190 - val_loss: 1.1219 - val_accuracy: 0.6138\n",
            "Epoch 8/10\n",
            "1563/1563 [==============================] - 8s 5ms/step - loss: 1.0380 - accuracy: 0.6302 - val_loss: 0.9767 - val_accuracy: 0.6588\n",
            "Epoch 9/10\n",
            "1563/1563 [==============================] - 8s 5ms/step - loss: 1.0252 - accuracy: 0.6402 - val_loss: 0.9461 - val_accuracy: 0.6665\n",
            "Epoch 10/10\n",
            "1563/1563 [==============================] - 8s 5ms/step - loss: 0.9932 - accuracy: 0.6507 - val_loss: 0.9559 - val_accuracy: 0.6648\n"
          ],
          "name": "stdout"
        },
        {
          "output_type": "execute_result",
          "data": {
            "text/plain": [
              "<tensorflow.python.keras.callbacks.History at 0x7fed00d8eb50>"
            ]
          },
          "metadata": {
            "tags": []
          },
          "execution_count": 10
        }
      ]
    },
    {
      "cell_type": "markdown",
      "metadata": {
        "id": "dOy-IQMuU4l0"
      },
      "source": [
        "## Evaluate the trained model"
      ]
    },
    {
      "cell_type": "code",
      "metadata": {
        "id": "3Z8y3b2GU4l1",
        "colab": {
          "base_uri": "https://localhost:8080/"
        },
        "outputId": "a201abaf-d61c-477f-cfb7-6a9cd1ce67b1"
      },
      "source": [
        "score = model_5.evaluate(x_test, y_test, verbose=0)\n",
        "print(\"Test loss:\", score[0])\n",
        "print(\"Test accuracy:\", score[1])"
      ],
      "execution_count": null,
      "outputs": [
        {
          "output_type": "stream",
          "text": [
            "Test loss: 0.9559277296066284\n",
            "Test accuracy: 0.6647999882698059\n"
          ],
          "name": "stdout"
        }
      ]
    },
    {
      "cell_type": "markdown",
      "metadata": {
        "collapsed": true,
        "id": "jmOeUBmvP2lE"
      },
      "source": [
        "### Exercise\n",
        "There are many things we can change in CNNs:\n",
        "1. The batch size\n",
        "2. The parameters within a specific CNN layer such as if padding is used, the size (kernel size) and number of filters used, and stride size\n",
        "3. The Dropout rate (if any) that is used\n",
        "4. The CNN architecture including the number of layers and if and when to use MaxPool (AvgPool usually isn't used today).\n",
        "5. The optimizer used (and the learning rate in the optimizer)\n",
        "6. In theory which activation function, but in CNN's Relu is almost always used except for the last layer which is Softmax (which activation function is Softmax???)\n",
        "\n",
        "Questions: \n",
        "\n",
        "A. Build model_2 which checks the performance of batch sizes of 4, 128 and 1024.  Which one works best after 10 epochs?  Which one runs the fastest?\n",
        "\n",
        "B. Build model_3 which adds padding to all layers. Does that improve performance?\n",
        "\n",
        "C. Build model_4 which uses the same architecture from the MNIST network. Does that work better?\n",
        "\n",
        "D. Build model_5 which adds to the structure of model_5-- either by adding more convolution layers or Maxpool layers.   Intel suggests trying the architecture: \n",
        "\n",
        "Conv -> Conv -> MaxPool -> Conv -> Conv -> MaxPool -> (Flatten) -> Dense -> Final Classification\n",
        "\n",
        "instead of:\n",
        "\n",
        "Conv -> Conv -> MaxPool -> (Flatten) -> Dense -> Final Classification\n",
        "\n",
        "If you do this, you will likely need to lower the stride to 1 as otherwise the layers are not big enough in this dataset!\n",
        "\n",
        "Please run the network that worked the best for more than 10 epochs and see how good you get!\n",
        "\n",
        "Hint:  Feel free to work on different colab notebooks in parallel (Google doesn't care until around 5 at the same time) and / or run the code on your computer and then paste it back to Colab when you are done (the code works faster on my computer than in Colab but everyone's computer is different).\n",
        "\n",
        "Your grade is based on the following:\n",
        "\n",
        "80 points for correctly doing all questions and documenting your solution including the answers to the my questions.\n",
        "\n",
        "5 points for breaking 65% accuracy in your best model\n",
        "\n",
        "10 points for breaking 70% accuracy in your best model\n",
        "\n",
        "3 points for breaking 72% accuracy in your best model\n",
        "\n",
        "2 points for breaking 75% accuracy in your best model"
      ]
    }
  ]
}