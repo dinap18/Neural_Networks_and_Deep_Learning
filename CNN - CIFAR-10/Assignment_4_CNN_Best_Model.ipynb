{
  "nbformat": 4,
  "nbformat_minor": 0,
  "metadata": {
    "kernelspec": {
      "display_name": "Python 3",
      "language": "python",
      "name": "python3"
    },
    "language_info": {
      "codemirror_mode": {
        "name": "ipython",
        "version": 3
      },
      "file_extension": ".py",
      "mimetype": "text/x-python",
      "name": "python",
      "nbconvert_exporter": "python",
      "pygments_lexer": "ipython3",
      "version": "3.5.2"
    },
    "colab": {
      "name": "Assignment 4 - CNN Best Model.ipynb",
      "provenance": []
    },
    "accelerator": "GPU"
  },
  "cells": [
    {
      "cell_type": "code",
      "metadata": {
        "id": "F4D8NDgvdxK4"
      },
      "source": [
        "#Dina Pinchuck \n",
        "\n",
        "#Model 4 had the best accuracy so that's the one that I'm trying to improve here"
      ],
      "execution_count": null,
      "outputs": []
    },
    {
      "cell_type": "markdown",
      "metadata": {
        "id": "bIxsHxttP2k5"
      },
      "source": [
        "## Building a CNN to classify images in the CIFAR-10 Dataset\n",
        "\n",
        "We will work with the CIFAR-10 Dataset.  This is a well-known dataset for image classification, which consists of 60000 32x32 color images in 10 classes, with 6000 images per class. There are 50000 training images and 10000 test images.\n",
        "\n",
        "The 10 classes are:\n",
        "\n",
        "<ol start=\"0\">\n",
        "<li> airplane\n",
        "<li>  automobile\n",
        "<li> bird\n",
        "<li>  cat\n",
        "<li> deer\n",
        "<li> dog\n",
        "<li>  frog\n",
        "<li>  horse\n",
        "<li>  ship\n",
        "<li>  truck\n",
        "</ol>\n",
        "\n",
        "For details about CIFAR-10 see:\n",
        "https://www.cs.toronto.edu/~kriz/cifar.html\n",
        "\n",
        "For a compilation of published performance results on CIFAR 10, see:\n",
        "http://rodrigob.github.io/are_we_there_yet/build/classification_datasets_results.html\n",
        "\n",
        "---\n",
        "\n",
        "### Building Convolutional Neural Nets\n",
        "\n",
        "In this exercise we will build and train our first convolutional neural networks.  In the first part, we walk through the different layers and how they are configured.  In the second part, you will build your own model, train it, and compare the performance.\n",
        "\n",
        "Much of this code is from Intel's course at: https://software.intel.com/content/dam/develop/public/us/en/downloads/intel-dl101-class6.zip, but I added some tweaks of my own ;)"
      ]
    },
    {
      "cell_type": "code",
      "metadata": {
        "id": "eQC8thNfP2k_"
      },
      "source": [
        "from __future__ import print_function\n",
        "import keras\n",
        "from keras.datasets import cifar10\n",
        "from keras.preprocessing.image import ImageDataGenerator\n",
        "from keras.models import Sequential\n",
        "from keras.layers import Dense, Dropout, Activation, Flatten\n",
        "from keras.layers import Conv2D, MaxPooling2D\n",
        "from keras.optimizers import Adam, SGD, RMSprop\n",
        "from tensorflow.keras import layers\n",
        "\n",
        "import matplotlib.pyplot as plt\n",
        "%matplotlib inline"
      ],
      "execution_count": null,
      "outputs": []
    },
    {
      "cell_type": "code",
      "metadata": {
        "id": "wfQekVzZP2lA",
        "colab": {
          "base_uri": "https://localhost:8080/"
        },
        "outputId": "32089076-0a4c-4a6f-f645-173adee6ea06"
      },
      "source": [
        "# The data, shuffled and split between train and test sets:\n",
        "(x_train, y_train), (x_test, y_test) = cifar10.load_data()\n",
        "print('x_train shape:', x_train.shape)\n",
        "print(x_train.shape[0], 'train samples')\n",
        "print(x_test.shape[0], 'test samples')"
      ],
      "execution_count": null,
      "outputs": [
        {
          "output_type": "stream",
          "text": [
            "x_train shape: (50000, 32, 32, 3)\n",
            "50000 train samples\n",
            "10000 test samples\n"
          ],
          "name": "stdout"
        }
      ]
    },
    {
      "cell_type": "code",
      "metadata": {
        "id": "Nc4W3uKIP2lA",
        "colab": {
          "base_uri": "https://localhost:8080/"
        },
        "outputId": "b4094856-bbaa-4b52-d65f-607afa8f8cf6"
      },
      "source": [
        "## Each image is a 32 x 32 x 3 numpy array\n",
        "x_train[444].shape"
      ],
      "execution_count": null,
      "outputs": [
        {
          "output_type": "execute_result",
          "data": {
            "text/plain": [
              "(32, 32, 3)"
            ]
          },
          "metadata": {
            "tags": []
          },
          "execution_count": 16
        }
      ]
    },
    {
      "cell_type": "markdown",
      "metadata": {
        "id": "P2OIsQqOnKAN"
      },
      "source": [
        "Notice that this time the pictures have color (RGB color with 3 channels)."
      ]
    },
    {
      "cell_type": "code",
      "metadata": {
        "id": "ePODxy5uP2lA",
        "colab": {
          "base_uri": "https://localhost:8080/",
          "height": 283
        },
        "outputId": "71280098-b83b-4864-e367-33f69ce74bd9"
      },
      "source": [
        "## Let's look at one of the images\n",
        "\n",
        "print(y_train[444])\n",
        "plt.imshow(x_train[444]);"
      ],
      "execution_count": null,
      "outputs": [
        {
          "output_type": "stream",
          "text": [
            "[9]\n"
          ],
          "name": "stdout"
        },
        {
          "output_type": "display_data",
          "data": {
            "image/png": "[encoded data removed]",
            "text/plain": [
              "<Figure size 432x288 with 1 Axes>"
            ]
          },
          "metadata": {
            "tags": [],
            "needs_background": "light"
          }
        }
      ]
    },
    {
      "cell_type": "code",
      "metadata": {
        "collapsed": true,
        "id": "czYvqoRAP2lA",
        "colab": {
          "base_uri": "https://localhost:8080/"
        },
        "outputId": "25f76840-c6be-4b43-f63d-d7898123041c"
      },
      "source": [
        "num_classes = 10\n",
        "print(y_train[444])\n",
        "y_train = keras.utils.to_categorical(y_train, num_classes)\n",
        "y_test = keras.utils.to_categorical(y_test, num_classes)"
      ],
      "execution_count": null,
      "outputs": [
        {
          "output_type": "stream",
          "text": [
            "[9]\n"
          ],
          "name": "stdout"
        }
      ]
    },
    {
      "cell_type": "code",
      "metadata": {
        "id": "srcBlBlVP2lB",
        "colab": {
          "base_uri": "https://localhost:8080/"
        },
        "outputId": "5761f4fc-c4a8-42a8-83a9-665d5a89bcbc"
      },
      "source": [
        "# now instead of classes described by an integer between 0-9 we have a vector with a 1 in the (Pythonic) 9th position\n",
        "y_train[444]"
      ],
      "execution_count": null,
      "outputs": [
        {
          "output_type": "execute_result",
          "data": {
            "text/plain": [
              "array([0., 0., 0., 0., 0., 0., 0., 0., 0., 1.], dtype=float32)"
            ]
          },
          "metadata": {
            "tags": []
          },
          "execution_count": 19
        }
      ]
    },
    {
      "cell_type": "code",
      "metadata": {
        "collapsed": true,
        "id": "wSh-NIvhP2lB"
      },
      "source": [
        "# As before, let's make everything float and scale\n",
        "x_train = x_train.astype('float32')\n",
        "x_test = x_test.astype('float32')\n",
        "x_train /= 255\n",
        "x_test /= 255"
      ],
      "execution_count": null,
      "outputs": []
    },
    {
      "cell_type": "markdown",
      "metadata": {
        "id": "i8eluWt3P2lB"
      },
      "source": [
        "## Keras Layers for CNNs\n",
        "- Previously we built Neural Networks using primarily the Dense, Activation and Dropout Layers.\n",
        "\n",
        "- Here we will describe how to use some of the CNN-specific layers provided by Keras\n",
        "\n",
        "### Conv2D\n",
        "\n",
        "```python\n",
        "keras.layers.convolutional.Conv2D(filters, kernel_size, strides=(1, 1), padding='valid', data_format=None, dilation_rate=(1, 1), activation=None, use_bias=True, kernel_initializer='glorot_uniform', bias_initializer='zeros', kernel_regularizer=None, bias_regularizer=None, activity_regularizer=None, kernel_constraint=None, bias_constraint=None, **kwargs)\n",
        "```\n",
        "\n",
        "A few parameters explained:\n",
        "- `filters`: the number of filter used per location.  In other words, the depth of the output.\n",
        "- `kernel_size`: an (x,y) tuple giving the height and width of the kernel to be used\n",
        "- `strides`: and (x,y) tuple giving the stride in each dimension.  Default is `(1,1)`\n",
        "- `padding`: With \"SAME\" padding, if you use a stride of 1, the layer's outputs will have the same spatial dimensions as its inputs. (otherwise you will loose size due to the filter)\n",
        "- `input_shape`: required only for the first layer\n",
        "\n",
        "Note, the size of the output will be determined by the kernel_size, strides\n",
        "\n",
        "### MaxPooling2D\n",
        "`keras.layers.pooling.MaxPooling2D(pool_size=(2, 2), strides=None, padding='valid', data_format=None)`\n",
        "\n",
        "- `pool_size`: the (x,y) size of the grid to be pooled.\n",
        "- `strides`: Assumed to be the `pool_size` unless otherwise specified\n",
        "\n",
        "### Flatten\n",
        "Turns its input into a one-dimensional vector (per instance).  Usually used when transitioning between convolutional layers and fully connected layers.\n",
        "\n",
        "---\n",
        "\n",
        "## First CNN\n",
        "Below we will build our first CNN.  For demonstration purposes (so that it will train quickly) it is not very deep and has relatively few parameters.  We use strides of 2 in the first two convolutional layers which quickly reduces the dimensions of the output.  After a MaxPooling layer, we flatten, and then have a single fully connected layer before our final classification layer."
      ]
    },
    {
      "cell_type": "code",
      "metadata": {
        "id": "xd7SfmLsP2lC",
        "colab": {
          "base_uri": "https://localhost:8080/"
        },
        "outputId": "6bf89bbb-7a7e-4b2a-a6fb-c9eef7fdb177"
      },
      "source": [
        "# Let's build a CNN using Keras' Sequential capabilities\n",
        "\n",
        "model_4 = keras.Sequential(\n",
        "    [\n",
        "        keras.Input(shape=(32,32,3)), #(32,32,3) is the shape of the input\n",
        "        layers.Conv2D(32, kernel_size=(3, 3), activation=\"relu\"),\n",
        "        layers.MaxPooling2D(pool_size=(2, 2)),\n",
        "        layers.Conv2D(64, kernel_size=(3, 3), activation=\"relu\"),\n",
        "        layers.MaxPooling2D(pool_size=(2, 2)),\n",
        "        layers.Flatten(),\n",
        "        layers.Dropout(0.5),\n",
        "        layers.Dense(num_classes, activation=\"softmax\"),\n",
        "    ]\n",
        ")\n",
        "model_4.summary()"
      ],
      "execution_count": null,
      "outputs": [
        {
          "output_type": "stream",
          "text": [
            "Model: \"sequential_1\"\n",
            "_________________________________________________________________\n",
            "Layer (type)                 Output Shape              Param #   \n",
            "=================================================================\n",
            "conv2d_2 (Conv2D)            (None, 30, 30, 32)        896       \n",
            "_________________________________________________________________\n",
            "max_pooling2d_2 (MaxPooling2 (None, 15, 15, 32)        0         \n",
            "_________________________________________________________________\n",
            "conv2d_3 (Conv2D)            (None, 13, 13, 64)        18496     \n",
            "_________________________________________________________________\n",
            "max_pooling2d_3 (MaxPooling2 (None, 6, 6, 64)          0         \n",
            "_________________________________________________________________\n",
            "flatten_1 (Flatten)          (None, 2304)              0         \n",
            "_________________________________________________________________\n",
            "dropout_1 (Dropout)          (None, 2304)              0         \n",
            "_________________________________________________________________\n",
            "dense_1 (Dense)              (None, 10)                23050     \n",
            "=================================================================\n",
            "Total params: 42,442\n",
            "Trainable params: 42,442\n",
            "Non-trainable params: 0\n",
            "_________________________________________________________________\n"
          ],
          "name": "stdout"
        }
      ]
    },
    {
      "cell_type": "markdown",
      "metadata": {
        "id": "hsjjm7nUP2lC"
      },
      "source": [
        "We still have 181K parameters, even though this is a \"small\" model.\n",
        "Note that the formula:\n",
        "\n",
        "output_width=(input_width-kernel_width)/stride+1 \n",
        "holds.  For example in the first layer, input_width=32, kernel_width=5 and stride = 2.  So:\n",
        "output_width=32-5/2 = 14 WITHOUT Padding.  But here padding = same, so output = 32/2 (due to stride)= 16. Without stride = 2 it would have been 32 had padding = same."
      ]
    },
    {
      "cell_type": "code",
      "metadata": {
        "id": "TQJhSyUmP2lD",
        "colab": {
          "base_uri": "https://localhost:8080/"
        },
        "outputId": "8abe51b8-e883-4b2c-ddb4-ef859e32e9bb"
      },
      "source": [
        "#improving the model by updating the batch size and number of epochs\n",
        "batch_size = 60\n",
        "num_epochs = 79\n",
        "\n",
        "# initiate Adam optimizer like in the first example\n",
        "model_4.compile(loss=\"categorical_crossentropy\", optimizer=\"adam\", metrics=[\"accuracy\"])\n",
        "# initiate RMSprop optimizer\n",
        "#opt = keras.optimizers.RMSprop(lr=0.0005, decay=0.00001)\n",
        "\n",
        "# Let's train the model using RMSprop\n",
        "#model_4.compile(loss='categorical_crossentropy',\n",
        "#              optimizer=opt,\n",
        "#              metrics=['accuracy'])\n",
        "\n",
        "model_4.fit(x_train, y_train,\n",
        "              batch_size=batch_size,\n",
        "              epochs=num_epochs,\n",
        "              validation_data=(x_test, y_test),\n",
        "              shuffle=True)"
      ],
      "execution_count": null,
      "outputs": [
        {
          "output_type": "stream",
          "text": [
            "Epoch 1/79\n",
            "834/834 [==============================] - 8s 8ms/step - loss: 1.8522 - accuracy: 0.3248 - val_loss: 1.3649 - val_accuracy: 0.5194\n",
            "Epoch 2/79\n",
            "834/834 [==============================] - 6s 8ms/step - loss: 1.3604 - accuracy: 0.5201 - val_loss: 1.2176 - val_accuracy: 0.5737\n",
            "Epoch 3/79\n",
            "834/834 [==============================] - 6s 8ms/step - loss: 1.2204 - accuracy: 0.5712 - val_loss: 1.0756 - val_accuracy: 0.6319\n",
            "Epoch 4/79\n",
            "834/834 [==============================] - 6s 8ms/step - loss: 1.1368 - accuracy: 0.6012 - val_loss: 1.0461 - val_accuracy: 0.6398\n",
            "Epoch 5/79\n",
            "834/834 [==============================] - 6s 8ms/step - loss: 1.0958 - accuracy: 0.6181 - val_loss: 0.9930 - val_accuracy: 0.6591\n",
            "Epoch 6/79\n",
            "834/834 [==============================] - 6s 8ms/step - loss: 1.0409 - accuracy: 0.6371 - val_loss: 0.9969 - val_accuracy: 0.6615\n",
            "Epoch 7/79\n",
            "834/834 [==============================] - 6s 8ms/step - loss: 1.0148 - accuracy: 0.6488 - val_loss: 0.9719 - val_accuracy: 0.6636\n",
            "Epoch 8/79\n",
            "834/834 [==============================] - 6s 8ms/step - loss: 1.0038 - accuracy: 0.6518 - val_loss: 0.9517 - val_accuracy: 0.6699\n",
            "Epoch 9/79\n",
            "834/834 [==============================] - 6s 8ms/step - loss: 0.9684 - accuracy: 0.6663 - val_loss: 0.9059 - val_accuracy: 0.6896\n",
            "Epoch 10/79\n",
            "834/834 [==============================] - 6s 8ms/step - loss: 0.9434 - accuracy: 0.6727 - val_loss: 0.9128 - val_accuracy: 0.6869\n",
            "Epoch 11/79\n",
            "834/834 [==============================] - 6s 8ms/step - loss: 0.9308 - accuracy: 0.6767 - val_loss: 0.8755 - val_accuracy: 0.6982\n",
            "Epoch 12/79\n",
            "834/834 [==============================] - 6s 8ms/step - loss: 0.9154 - accuracy: 0.6868 - val_loss: 0.8695 - val_accuracy: 0.6991\n",
            "Epoch 13/79\n",
            "834/834 [==============================] - 6s 8ms/step - loss: 0.9012 - accuracy: 0.6876 - val_loss: 0.8703 - val_accuracy: 0.6994\n",
            "Epoch 14/79\n",
            "834/834 [==============================] - 6s 8ms/step - loss: 0.8893 - accuracy: 0.6937 - val_loss: 0.8355 - val_accuracy: 0.7164\n",
            "Epoch 15/79\n",
            "834/834 [==============================] - 6s 8ms/step - loss: 0.8798 - accuracy: 0.6976 - val_loss: 0.8326 - val_accuracy: 0.7109\n",
            "Epoch 16/79\n",
            "834/834 [==============================] - 6s 8ms/step - loss: 0.8518 - accuracy: 0.7069 - val_loss: 0.8311 - val_accuracy: 0.7124\n",
            "Epoch 17/79\n",
            "834/834 [==============================] - 6s 8ms/step - loss: 0.8484 - accuracy: 0.7072 - val_loss: 0.8109 - val_accuracy: 0.7227\n",
            "Epoch 18/79\n",
            "834/834 [==============================] - 6s 8ms/step - loss: 0.8350 - accuracy: 0.7128 - val_loss: 0.7943 - val_accuracy: 0.7263\n",
            "Epoch 19/79\n",
            "834/834 [==============================] - 6s 8ms/step - loss: 0.8361 - accuracy: 0.7059 - val_loss: 0.8242 - val_accuracy: 0.7116\n",
            "Epoch 20/79\n",
            "834/834 [==============================] - 6s 8ms/step - loss: 0.8142 - accuracy: 0.7173 - val_loss: 0.7935 - val_accuracy: 0.7297\n",
            "Epoch 21/79\n",
            "834/834 [==============================] - 6s 8ms/step - loss: 0.8186 - accuracy: 0.7172 - val_loss: 0.7978 - val_accuracy: 0.7243\n",
            "Epoch 22/79\n",
            "834/834 [==============================] - 6s 8ms/step - loss: 0.8146 - accuracy: 0.7184 - val_loss: 0.7788 - val_accuracy: 0.7339\n",
            "Epoch 23/79\n",
            "834/834 [==============================] - 6s 8ms/step - loss: 0.8081 - accuracy: 0.7165 - val_loss: 0.7777 - val_accuracy: 0.7337\n",
            "Epoch 24/79\n",
            "834/834 [==============================] - 6s 8ms/step - loss: 0.8099 - accuracy: 0.7149 - val_loss: 0.7844 - val_accuracy: 0.7365\n",
            "Epoch 25/79\n",
            "834/834 [==============================] - 6s 8ms/step - loss: 0.7995 - accuracy: 0.7233 - val_loss: 0.7923 - val_accuracy: 0.7234\n",
            "Epoch 26/79\n",
            "834/834 [==============================] - 6s 8ms/step - loss: 0.7843 - accuracy: 0.7303 - val_loss: 0.7681 - val_accuracy: 0.7377\n",
            "Epoch 27/79\n",
            "834/834 [==============================] - 6s 8ms/step - loss: 0.7840 - accuracy: 0.7253 - val_loss: 0.7834 - val_accuracy: 0.7313\n",
            "Epoch 28/79\n",
            "834/834 [==============================] - 6s 8ms/step - loss: 0.7811 - accuracy: 0.7288 - val_loss: 0.7710 - val_accuracy: 0.7354\n",
            "Epoch 29/79\n",
            "834/834 [==============================] - 6s 8ms/step - loss: 0.7687 - accuracy: 0.7321 - val_loss: 0.7755 - val_accuracy: 0.7377\n",
            "Epoch 30/79\n",
            "834/834 [==============================] - 6s 8ms/step - loss: 0.7787 - accuracy: 0.7313 - val_loss: 0.7670 - val_accuracy: 0.7355\n",
            "Epoch 31/79\n",
            "834/834 [==============================] - 6s 8ms/step - loss: 0.7751 - accuracy: 0.7313 - val_loss: 0.7850 - val_accuracy: 0.7324\n",
            "Epoch 32/79\n",
            "834/834 [==============================] - 6s 8ms/step - loss: 0.7586 - accuracy: 0.7357 - val_loss: 0.7650 - val_accuracy: 0.7384\n",
            "Epoch 33/79\n",
            "834/834 [==============================] - 6s 8ms/step - loss: 0.7590 - accuracy: 0.7359 - val_loss: 0.7812 - val_accuracy: 0.7368\n",
            "Epoch 34/79\n",
            "834/834 [==============================] - 6s 8ms/step - loss: 0.7611 - accuracy: 0.7342 - val_loss: 0.7620 - val_accuracy: 0.7354\n",
            "Epoch 35/79\n",
            "834/834 [==============================] - 6s 8ms/step - loss: 0.7657 - accuracy: 0.7321 - val_loss: 0.7547 - val_accuracy: 0.7433\n",
            "Epoch 36/79\n",
            "834/834 [==============================] - 6s 8ms/step - loss: 0.7497 - accuracy: 0.7410 - val_loss: 0.7473 - val_accuracy: 0.7428\n",
            "Epoch 37/79\n",
            "834/834 [==============================] - 6s 8ms/step - loss: 0.7562 - accuracy: 0.7396 - val_loss: 0.7634 - val_accuracy: 0.7382\n",
            "Epoch 38/79\n",
            "834/834 [==============================] - 6s 8ms/step - loss: 0.7433 - accuracy: 0.7417 - val_loss: 0.7438 - val_accuracy: 0.7443\n",
            "Epoch 39/79\n",
            "834/834 [==============================] - 6s 8ms/step - loss: 0.7309 - accuracy: 0.7459 - val_loss: 0.7478 - val_accuracy: 0.7447\n",
            "Epoch 40/79\n",
            "834/834 [==============================] - 6s 8ms/step - loss: 0.7331 - accuracy: 0.7431 - val_loss: 0.7388 - val_accuracy: 0.7466\n",
            "Epoch 41/79\n",
            "834/834 [==============================] - 6s 8ms/step - loss: 0.7261 - accuracy: 0.7473 - val_loss: 0.7488 - val_accuracy: 0.7436\n",
            "Epoch 42/79\n",
            "834/834 [==============================] - 6s 8ms/step - loss: 0.7230 - accuracy: 0.7490 - val_loss: 0.7472 - val_accuracy: 0.7478\n",
            "Epoch 43/79\n",
            "834/834 [==============================] - 6s 8ms/step - loss: 0.7260 - accuracy: 0.7466 - val_loss: 0.7507 - val_accuracy: 0.7430\n",
            "Epoch 44/79\n",
            "834/834 [==============================] - 6s 8ms/step - loss: 0.7352 - accuracy: 0.7419 - val_loss: 0.7375 - val_accuracy: 0.7457\n",
            "Epoch 45/79\n",
            "834/834 [==============================] - 6s 8ms/step - loss: 0.7276 - accuracy: 0.7461 - val_loss: 0.7461 - val_accuracy: 0.7467\n",
            "Epoch 46/79\n",
            "834/834 [==============================] - 6s 8ms/step - loss: 0.7230 - accuracy: 0.7461 - val_loss: 0.7456 - val_accuracy: 0.7424\n",
            "Epoch 47/79\n",
            "834/834 [==============================] - 6s 8ms/step - loss: 0.7175 - accuracy: 0.7519 - val_loss: 0.7426 - val_accuracy: 0.7468\n",
            "Epoch 48/79\n",
            "834/834 [==============================] - 6s 8ms/step - loss: 0.7129 - accuracy: 0.7493 - val_loss: 0.8295 - val_accuracy: 0.7134\n",
            "Epoch 49/79\n",
            "834/834 [==============================] - 6s 8ms/step - loss: 0.7248 - accuracy: 0.7469 - val_loss: 0.7370 - val_accuracy: 0.7483\n",
            "Epoch 50/79\n",
            "834/834 [==============================] - 6s 8ms/step - loss: 0.7168 - accuracy: 0.7510 - val_loss: 0.7384 - val_accuracy: 0.7476\n",
            "Epoch 51/79\n",
            "834/834 [==============================] - 6s 8ms/step - loss: 0.7111 - accuracy: 0.7512 - val_loss: 0.7198 - val_accuracy: 0.7509\n",
            "Epoch 52/79\n",
            "834/834 [==============================] - 6s 8ms/step - loss: 0.7064 - accuracy: 0.7538 - val_loss: 0.8121 - val_accuracy: 0.7211\n",
            "Epoch 53/79\n",
            "834/834 [==============================] - 6s 8ms/step - loss: 0.7125 - accuracy: 0.7513 - val_loss: 0.7315 - val_accuracy: 0.7514\n",
            "Epoch 54/79\n",
            "834/834 [==============================] - 6s 8ms/step - loss: 0.7029 - accuracy: 0.7526 - val_loss: 0.7418 - val_accuracy: 0.7519\n",
            "Epoch 55/79\n",
            "834/834 [==============================] - 6s 8ms/step - loss: 0.6980 - accuracy: 0.7529 - val_loss: 0.7357 - val_accuracy: 0.7497\n",
            "Epoch 56/79\n",
            "834/834 [==============================] - 6s 8ms/step - loss: 0.7047 - accuracy: 0.7561 - val_loss: 0.7452 - val_accuracy: 0.7457\n",
            "Epoch 57/79\n",
            "834/834 [==============================] - 6s 8ms/step - loss: 0.7067 - accuracy: 0.7530 - val_loss: 0.7204 - val_accuracy: 0.7517\n",
            "Epoch 58/79\n",
            "834/834 [==============================] - 6s 8ms/step - loss: 0.7032 - accuracy: 0.7544 - val_loss: 0.7316 - val_accuracy: 0.7497\n",
            "Epoch 59/79\n",
            "834/834 [==============================] - 6s 8ms/step - loss: 0.6916 - accuracy: 0.7541 - val_loss: 0.7482 - val_accuracy: 0.7489\n",
            "Epoch 60/79\n",
            "834/834 [==============================] - 6s 8ms/step - loss: 0.6908 - accuracy: 0.7589 - val_loss: 0.7666 - val_accuracy: 0.7308\n",
            "Epoch 61/79\n",
            "834/834 [==============================] - 6s 8ms/step - loss: 0.6956 - accuracy: 0.7517 - val_loss: 0.7314 - val_accuracy: 0.7478\n",
            "Epoch 62/79\n",
            "834/834 [==============================] - 6s 8ms/step - loss: 0.6917 - accuracy: 0.7580 - val_loss: 0.7218 - val_accuracy: 0.7520\n",
            "Epoch 63/79\n",
            "834/834 [==============================] - 6s 8ms/step - loss: 0.6945 - accuracy: 0.7561 - val_loss: 0.7291 - val_accuracy: 0.7499\n",
            "Epoch 64/79\n",
            "834/834 [==============================] - 6s 8ms/step - loss: 0.6893 - accuracy: 0.7572 - val_loss: 0.7394 - val_accuracy: 0.7483\n",
            "Epoch 65/79\n",
            "834/834 [==============================] - 6s 8ms/step - loss: 0.6844 - accuracy: 0.7599 - val_loss: 0.7407 - val_accuracy: 0.7464\n",
            "Epoch 66/79\n",
            "834/834 [==============================] - 6s 8ms/step - loss: 0.6766 - accuracy: 0.7656 - val_loss: 0.7200 - val_accuracy: 0.7525\n",
            "Epoch 67/79\n",
            "834/834 [==============================] - 6s 8ms/step - loss: 0.6758 - accuracy: 0.7623 - val_loss: 0.7257 - val_accuracy: 0.7496\n",
            "Epoch 68/79\n",
            "834/834 [==============================] - 6s 8ms/step - loss: 0.6843 - accuracy: 0.7588 - val_loss: 0.7136 - val_accuracy: 0.7534\n",
            "Epoch 69/79\n",
            "834/834 [==============================] - 6s 8ms/step - loss: 0.6783 - accuracy: 0.7642 - val_loss: 0.7107 - val_accuracy: 0.7543\n",
            "Epoch 70/79\n",
            "834/834 [==============================] - 6s 8ms/step - loss: 0.6797 - accuracy: 0.7609 - val_loss: 0.7272 - val_accuracy: 0.7531\n",
            "Epoch 71/79\n",
            "834/834 [==============================] - 6s 8ms/step - loss: 0.6830 - accuracy: 0.7610 - val_loss: 0.7369 - val_accuracy: 0.7520\n",
            "Epoch 72/79\n",
            "834/834 [==============================] - 6s 8ms/step - loss: 0.6762 - accuracy: 0.7627 - val_loss: 0.7454 - val_accuracy: 0.7443\n",
            "Epoch 73/79\n",
            "834/834 [==============================] - 6s 8ms/step - loss: 0.6743 - accuracy: 0.7657 - val_loss: 0.7137 - val_accuracy: 0.7571\n",
            "Epoch 74/79\n",
            "834/834 [==============================] - 6s 8ms/step - loss: 0.6694 - accuracy: 0.7685 - val_loss: 0.7150 - val_accuracy: 0.7572\n",
            "Epoch 75/79\n",
            "834/834 [==============================] - 7s 8ms/step - loss: 0.6607 - accuracy: 0.7707 - val_loss: 0.7166 - val_accuracy: 0.7541\n",
            "Epoch 76/79\n",
            "834/834 [==============================] - 7s 8ms/step - loss: 0.6785 - accuracy: 0.7621 - val_loss: 0.7228 - val_accuracy: 0.7534\n",
            "Epoch 77/79\n",
            "834/834 [==============================] - 6s 8ms/step - loss: 0.6654 - accuracy: 0.7678 - val_loss: 0.7135 - val_accuracy: 0.7570\n",
            "Epoch 78/79\n",
            "834/834 [==============================] - 6s 8ms/step - loss: 0.6591 - accuracy: 0.7680 - val_loss: 0.7284 - val_accuracy: 0.7501\n",
            "Epoch 79/79\n",
            "834/834 [==============================] - 6s 8ms/step - loss: 0.6646 - accuracy: 0.7678 - val_loss: 0.7170 - val_accuracy: 0.7561\n"
          ],
          "name": "stdout"
        },
        {
          "output_type": "execute_result",
          "data": {
            "text/plain": [
              "<tensorflow.python.keras.callbacks.History at 0x7fa7ec285dd0>"
            ]
          },
          "metadata": {
            "tags": []
          },
          "execution_count": 22
        }
      ]
    },
    {
      "cell_type": "markdown",
      "metadata": {
        "id": "dOy-IQMuU4l0"
      },
      "source": [
        "## Evaluate the trained model"
      ]
    },
    {
      "cell_type": "code",
      "metadata": {
        "id": "3Z8y3b2GU4l1",
        "colab": {
          "base_uri": "https://localhost:8080/"
        },
        "outputId": "bb594dfb-77a3-491e-8a90-0c7a652ef79a"
      },
      "source": [
        "score = model_4.evaluate(x_test, y_test, verbose=0)\n",
        "print(\"Test loss:\", score[0])\n",
        "print(\"Test accuracy:\", score[1])"
      ],
      "execution_count": null,
      "outputs": [
        {
          "output_type": "stream",
          "text": [
            "Test loss: 0.7169941067695618\n",
            "Test accuracy: 0.7560999989509583\n"
          ],
          "name": "stdout"
        }
      ]
    },
    {
      "cell_type": "markdown",
      "metadata": {
        "id": "JHSMMTn4fKOD"
      },
      "source": [
        "![Screenshot 2021-05-10 115524.png](data:image/png;base64,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)"
      ]
    },
    {
      "cell_type": "code",
      "metadata": {
        "colab": {
          "base_uri": "https://localhost:8080/"
        },
        "id": "5FUbueJuP8d6",
        "outputId": "d2d04d0d-3540-4271-ead1-be778a5922a3"
      },
      "source": [
        "import gc\n",
        "#frees up RAM\n",
        "gc.collect()"
      ],
      "execution_count": null,
      "outputs": [
        {
          "output_type": "execute_result",
          "data": {
            "text/plain": [
              "4838"
            ]
          },
          "metadata": {
            "tags": []
          },
          "execution_count": 24
        }
      ]
    },
    {
      "cell_type": "markdown",
      "metadata": {
        "collapsed": true,
        "id": "jmOeUBmvP2lE"
      },
      "source": [
        "### Exercise\n",
        "There are many things we can change in CNNs:\n",
        "1. The batch size\n",
        "2. The parameters within a specific CNN layer such as if padding is used, the size (kernel size) and number of filters used, and stride size\n",
        "3. The Dropout rate (if any) that is used\n",
        "4. The CNN architecture including the number of layers and if and when to use MaxPool (AvgPool usually isn't used today).\n",
        "5. The optimizer used (and the learning rate in the optimizer)\n",
        "6. In theory which activation function, but in CNN's Relu is almost always used except for the last layer which is Softmax (which activation function is Softmax???)\n",
        "\n",
        "Questions: \n",
        "\n",
        "A. Build model_2 which checks the performance of batch sizes of 4, 128 and 1024.  Which one works best after 10 epochs?  Which one runs the fastest?\n",
        "\n",
        "B. Build model_3 which adds padding to all layers. Does that improve performance?\n",
        "\n",
        "C. Build model_4 which uses the same architecture from the MNIST network. Does that work better?\n",
        "\n",
        "D. Build model_5 which adds to the structure of model_4-- either by adding more convolution layers or Maxpool layers.   Intel suggests trying the architecture: \n",
        "\n",
        "Conv -> Conv -> MaxPool -> Conv -> Conv -> MaxPool -> (Flatten) -> Dense -> Final Classification\n",
        "\n",
        "instead of:\n",
        "\n",
        "Conv -> Conv -> MaxPool -> (Flatten) -> Dense -> Final Classification\n",
        "\n",
        "If you do this, you will likely need to lower the stride to 1 as otherwise the layers are not big enough in this dataset!\n",
        "\n",
        "Please run the network that worked the best for more than 10 epochs and see how good you get!\n",
        "\n",
        "Hint:  Feel free to work on different colab notebooks in parallel (Google doesn't care until around 5 at the same time) and / or run the code on your computer and then paste it back to Colab when you are done (the code works faster on my computer than in Colab but everyone's computer is different).\n",
        "\n",
        "Your grade is based on the following:\n",
        "\n",
        "80 points for correctly doing all questions and documenting your solution including the answers to the my questions.\n",
        "\n",
        "5 points for breaking 65% accuracy in your best model\n",
        "\n",
        "10 points for breaking 70% accuracy in your best model\n",
        "\n",
        "3 points for breaking 72% accuracy in your best model\n",
        "\n",
        "2 points for breaking 75% accuracy in your best model"
      ]
    }
  ]
}