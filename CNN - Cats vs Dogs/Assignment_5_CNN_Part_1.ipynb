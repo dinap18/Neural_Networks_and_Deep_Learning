{
  "nbformat": 4,
  "nbformat_minor": 0,
  "metadata": {
    "accelerator": "GPU",
    "colab": {
      "name": "Assignment 5 - CNN Part 1.ipynb",
      "provenance": [],
      "collapsed_sections": []
    },
    "kernelspec": {
      "display_name": "Python 3",
      "name": "python3"
    }
  },
  "cells": [
    {
      "cell_type": "code",
      "metadata": {
        "id": "MFADJAvJIZUW"
      },
      "source": [
        "//#Dina Pinchuck \n",
        "#Assigment 5 part 1"
      ],
      "execution_count": null,
      "outputs": []
    },
    {
      "cell_type": "markdown",
      "metadata": {
        "id": "ivKcQi6NXt75"
      },
      "source": [
        "code for second part: https://colab.research.google.com/drive/1-b8DiITyMJgzMfeDaAu5n9x-6rV87_Md?usp=sharing"
      ]
    },
    {
      "cell_type": "markdown",
      "metadata": {
        "id": "UY6KJV6z6l7_"
      },
      "source": [
        "## Explore the Example Data"
      ]
    },
    {
      "cell_type": "markdown",
      "metadata": {
        "id": "-L7r2zdl64Hg"
      },
      "source": [
        "Let's start by downloading our example data, a .zip of 2,000 JPG pictures of cats and dogs, and extracting it locally in `/tmp`."
      ]
    },
    {
      "cell_type": "markdown",
      "metadata": {
        "id": "keyquuYMWPMa"
      },
      "source": [
        "**NOTE:** The 2,000 images used in this exercise are excerpted from the [\"Dogs vs. Cats\" dataset](https://www.kaggle.com/c/dogs-vs-cats/data) available on Kaggle, which contains 25,000 images. Here, we use a subset of the full dataset to decrease training time for educational purposes."
      ]
    },
    {
      "cell_type": "code",
      "metadata": {
        "colab": {
          "base_uri": "https://localhost:8080/"
        },
        "id": "RXZT2UsyIVe_",
        "outputId": "c889daec-460d-4b74-8b5f-ea50c17dd0ef"
      },
      "source": [
        "!wget --no-check-certificate \\\n",
        "    https://storage.googleapis.com/mledu-datasets/cats_and_dogs_filtered.zip \\\n",
        "    -O /tmp/cats_and_dogs_filtered.zip"
      ],
      "execution_count": null,
      "outputs": [
        {
          "output_type": "stream",
          "text": [
            "--2021-05-14 08:46:55--  https://storage.googleapis.com/mledu-datasets/cats_and_dogs_filtered.zip\n",
            "Resolving storage.googleapis.com (storage.googleapis.com)... 74.125.71.128, 64.233.184.128, 74.125.133.128, ...\n",
            "Connecting to storage.googleapis.com (storage.googleapis.com)|74.125.71.128|:443... connected.\n",
            "HTTP request sent, awaiting response... 200 OK\n",
            "Length: 68606236 (65M) [application/zip]\n",
            "Saving to: ‘/tmp/cats_and_dogs_filtered.zip’\n",
            "\n",
            "/tmp/cats_and_dogs_ 100%[===================>]  65.43M  91.6MB/s    in 0.7s    \n",
            "\n",
            "2021-05-14 08:46:56 (91.6 MB/s) - ‘/tmp/cats_and_dogs_filtered.zip’ saved [68606236/68606236]\n",
            "\n"
          ],
          "name": "stdout"
        }
      ]
    },
    {
      "cell_type": "code",
      "metadata": {
        "id": "PLy3pthUS0D2"
      },
      "source": [
        "import os\n",
        "import zipfile\n",
        "\n",
        "local_zip = '/tmp/cats_and_dogs_filtered.zip'\n",
        "zip_ref = zipfile.ZipFile(local_zip, 'r')\n",
        "zip_ref.extractall('/tmp')\n",
        "zip_ref.close()"
      ],
      "execution_count": null,
      "outputs": []
    },
    {
      "cell_type": "markdown",
      "metadata": {
        "id": "o-qUPyfO7Qr8"
      },
      "source": [
        "The contents of the .zip are extracted to the base directory `/tmp/cats_and_dogs_filtered`, which contains `train` and `validation` subdirectories for the training and validation datasets (see the [Machine Learning Crash Course](https://developers.google.com/machine-learning/crash-course/validation/check-your-intuition) for a refresher on training, validation, and test sets), which in turn each contain `cats` and `dogs` subdirectories. Let's define each of these directories:"
      ]
    },
    {
      "cell_type": "code",
      "metadata": {
        "id": "MLZKVtE0dSfk"
      },
      "source": [
        "base_dir = '/tmp/cats_and_dogs_filtered'\n",
        "train_dir = os.path.join(base_dir, 'train')\n",
        "validation_dir = os.path.join(base_dir, 'validation')\n",
        "\n",
        "# Directory with our training cat pictures\n",
        "train_cats_dir = os.path.join(train_dir, 'cats')\n",
        "\n",
        "# Directory with our training dog pictures\n",
        "train_dogs_dir = os.path.join(train_dir, 'dogs')\n",
        "\n",
        "# Directory with our validation cat pictures\n",
        "validation_cats_dir = os.path.join(validation_dir, 'cats')\n",
        "\n",
        "# Directory with our validation dog pictures\n",
        "validation_dogs_dir = os.path.join(validation_dir, 'dogs')"
      ],
      "execution_count": null,
      "outputs": []
    },
    {
      "cell_type": "markdown",
      "metadata": {
        "id": "LuBYtA_Zd8_T"
      },
      "source": [
        "Now, let's see what the filenames look like in the `cats` and `dogs` `train` directories (file naming conventions are the same in the `validation` directory):"
      ]
    },
    {
      "cell_type": "code",
      "metadata": {
        "colab": {
          "base_uri": "https://localhost:8080/"
        },
        "id": "4PIP1rkmeAYS",
        "outputId": "557c4570-b451-45b6-f5db-923b5d4b7979"
      },
      "source": [
        "train_cat_fnames = os.listdir(train_cats_dir)\n",
        "print(train_cat_fnames[:10])\n",
        "\n",
        "train_dog_fnames = os.listdir(train_dogs_dir)\n",
        "train_dog_fnames.sort()\n",
        "print(train_dog_fnames[:10])"
      ],
      "execution_count": null,
      "outputs": [
        {
          "output_type": "stream",
          "text": [
            "['cat.891.jpg', 'cat.155.jpg', 'cat.943.jpg', 'cat.308.jpg', 'cat.34.jpg', 'cat.942.jpg', 'cat.188.jpg', 'cat.32.jpg', 'cat.735.jpg', 'cat.383.jpg']\n",
            "['dog.0.jpg', 'dog.1.jpg', 'dog.10.jpg', 'dog.100.jpg', 'dog.101.jpg', 'dog.102.jpg', 'dog.103.jpg', 'dog.104.jpg', 'dog.105.jpg', 'dog.106.jpg']\n"
          ],
          "name": "stdout"
        }
      ]
    },
    {
      "cell_type": "markdown",
      "metadata": {
        "id": "HlqN5KbafhLI"
      },
      "source": [
        "Let's find out the total number of cat and dog images in the `train` and `validation` directories:"
      ]
    },
    {
      "cell_type": "code",
      "metadata": {
        "colab": {
          "base_uri": "https://localhost:8080/"
        },
        "id": "H4XHh2xSfgie",
        "outputId": "5bc77c93-b766-469d-975c-524a19c705a0"
      },
      "source": [
        "print('total training cat images:', len(os.listdir(train_cats_dir)))\n",
        "print('total training dog images:', len(os.listdir(train_dogs_dir)))\n",
        "print('total validation cat images:', len(os.listdir(validation_cats_dir)))\n",
        "print('total validation dog images:', len(os.listdir(validation_dogs_dir)))"
      ],
      "execution_count": null,
      "outputs": [
        {
          "output_type": "stream",
          "text": [
            "total training cat images: 1000\n",
            "total training dog images: 1000\n",
            "total validation cat images: 500\n",
            "total validation dog images: 500\n"
          ],
          "name": "stdout"
        }
      ]
    },
    {
      "cell_type": "code",
      "metadata": {
        "id": "IYVLSfbsbf9K"
      },
      "source": [
        "from tensorflow.keras import layers\n",
        "from tensorflow.keras import Model\n",
        "from tensorflow.keras.optimizers import RMSprop"
      ],
      "execution_count": null,
      "outputs": []
    },
    {
      "cell_type": "code",
      "metadata": {
        "id": "ugysGIPxnaYo"
      },
      "source": [
        "#function that sets up a model, the parameter states if we want dropout or not\n",
        "def set_up_model(dropout):\n",
        "\n",
        "  # Our input feature map is 150x150x3: 150x150 for the image pixels, and 3 for\n",
        "  # the three color channels: R, G, and B\n",
        "  img_input = layers.Input(shape=(150, 150, 3))\n",
        "\n",
        "  # First convolution extracts 16 filters that are 3x3\n",
        "  # Convolution is followed by max-pooling layer with a 2x2 window\n",
        "  x = layers.Conv2D(16, 3, activation='relu')(img_input)\n",
        "  x = layers.MaxPooling2D(2)(x)\n",
        "\n",
        "  # Second convolution extracts 32 filters that are 3x3\n",
        "  # Convolution is followed by max-pooling layer with a 2x2 window\n",
        "  x = layers.Conv2D(32, 3, activation='relu')(x)\n",
        "  x = layers.MaxPooling2D(2)(x)\n",
        "\n",
        "  # Third convolution extracts 64 filters that are 3x3\n",
        "  # Convolution is followed by max-pooling layer with a 2x2 window\n",
        "  x = layers.Conv2D(64, 3, activation='relu')(x)\n",
        "  x = layers.MaxPooling2D(2)(x)\n",
        "  # Flatten feature map to a 1-dim tensor so we can add fully connected layers\n",
        "  x = layers.Flatten()(x)\n",
        "\n",
        "  #adding dropout, based on the parameter that the function recieved\n",
        "  if dropout:\n",
        "    x=layers.Dropout(0.5)(x)\n",
        "  # Create a fully connected layer with ReLU activation and 512 hidden units\n",
        "  x = layers.Dense(512, activation='relu')(x)\n",
        "\n",
        "  # Create output layer with a single node and sigmoid activation\n",
        "  output = layers.Dense(1, activation='sigmoid')(x)\n",
        "\n",
        "  # Create model:\n",
        "  # input = input feature map\n",
        "  # output = input feature map + stacked convolution/maxpooling layers + fully \n",
        "  # connected layer + sigmoid output layer\n",
        "  model = Model(img_input, output)\n",
        "  model.summary()\n",
        "  model.compile(loss='binary_crossentropy',\n",
        "              optimizer=RMSprop(lr=0.001),\n",
        "              metrics=['acc'])\n",
        "  return model  "
      ],
      "execution_count": null,
      "outputs": []
    },
    {
      "cell_type": "code",
      "metadata": {
        "id": "ClebU9NJg99G"
      },
      "source": [
        "from tensorflow.keras.preprocessing.image import ImageDataGenerator\n",
        "#Data Preprocessing function, first parameter is if we want augmentation or not, second is a model that we built using the set_up_model function\n",
        "def data_preprocessing(augmentation,model):\n",
        "\n",
        "  # Data Augmentation like the second example given in class\n",
        "  train_datagen = ImageDataGenerator(\n",
        "      rescale=1./255,\n",
        "      rotation_range=40,\n",
        "      width_shift_range=0.2,\n",
        "      height_shift_range=0.2,\n",
        "      shear_range=0.2,\n",
        "      zoom_range=0.2,\n",
        "      horizontal_flip=True,) if augmentation else ImageDataGenerator(rescale=1./255) #if augmentation isnt true we only need to rescale the data\n",
        "  val_datagen = ImageDataGenerator(rescale=1./255)\n",
        "\n",
        "  # Flow training images in batches of 20 using train_datagen generator\n",
        "  train_generator = train_datagen.flow_from_directory(\n",
        "          train_dir,  # This is the source directory for training images\n",
        "          target_size=(150, 150),  # All images will be resized to 150x150\n",
        "          batch_size=20,\n",
        "          # Since we use binary_crossentropy loss, we need binary labels\n",
        "          class_mode='binary')\n",
        "\n",
        "  # Flow validation images in batches of 20 using val_datagen generator\n",
        "  validation_generator = val_datagen.flow_from_directory(\n",
        "          validation_dir,\n",
        "          target_size=(150, 150),\n",
        "          batch_size=20,\n",
        "          class_mode='binary')\n",
        "\n",
        "  #training the model - Fits the model on data yielded batch-by-batch by a Python generator.\n",
        "  history = model.fit_generator(\n",
        "        train_generator,\n",
        "        steps_per_epoch=100,  # 2000 images = batch_size * steps\n",
        "        epochs=30,\n",
        "        validation_data=validation_generator,\n",
        "        validation_steps=50,  # 1000 images = batch_size * steps\n",
        "        verbose=2)\n",
        "  return history,validation_generator"
      ],
      "execution_count": null,
      "outputs": []
    },
    {
      "cell_type": "markdown",
      "metadata": {
        "id": "Q5Vulban4ZrD"
      },
      "source": [
        "### Evaluating Accuracy and Loss for the Model\n",
        "\n",
        "Let's plot the training/validation accuracy and loss as collected during training:"
      ]
    },
    {
      "cell_type": "code",
      "metadata": {
        "id": "0oj0gTIy4k60",
        "colab": {
          "base_uri": "https://localhost:8080/"
        },
        "outputId": "c99b5376-caba-4a86-f7d9-d5ede2cd1c81"
      },
      "source": [
        "# Retrieve a list of accuracy results on training and validation data\n",
        "# sets for each training epoch\n",
        "\n",
        "#dictonary for holding the test accuracy of the models so we can check which one has the best result\n",
        "acc_dictonary={}\n",
        "\n",
        "#saving the training and testing loss and accuracy, with the same keys as the accuracy dictonary, \n",
        "#so after we find the best model we can plot graphs for it\n",
        "loss_acc_dictonary={}\n",
        "\n",
        "#no augmentation or dropout model\n",
        "model_none=set_up_model(False) #settting up the model, the parameter is if we want dropout or not\n",
        "history_none,validation_generator=data_preprocessing(False,model_none) # data preprocessing, the first parameter is if we want augmentation or not, the second is the model we just set up\n",
        "acc_none= model_none.evaluate(validation_generator, verbose=0)[1] #test accuracy\n",
        "acc_dictonary[\"none\"]=acc_none #adding the test accuracy to the dictonary\n",
        "print(\"the test accuracy for this model is: \",acc_none)#printing the test accuracy\n",
        "#saving the loss and accuracy in case this is the best model and we need to plot it afterwards\n",
        "loss_acc_dictonary[\"none\"]=[history_none.history[\"acc\"],history_none.history[\"val_acc\"],history_none.history[\"loss\"],history_none.history[\"val_loss\"]]\n",
        "\n"
      ],
      "execution_count": null,
      "outputs": [
        {
          "output_type": "stream",
          "text": [
            "Model: \"model\"\n",
            "_________________________________________________________________\n",
            "Layer (type)                 Output Shape              Param #   \n",
            "=================================================================\n",
            "input_1 (InputLayer)         [(None, 150, 150, 3)]     0         \n",
            "_________________________________________________________________\n",
            "conv2d (Conv2D)              (None, 148, 148, 16)      448       \n",
            "_________________________________________________________________\n",
            "max_pooling2d (MaxPooling2D) (None, 74, 74, 16)        0         \n",
            "_________________________________________________________________\n",
            "conv2d_1 (Conv2D)            (None, 72, 72, 32)        4640      \n",
            "_________________________________________________________________\n",
            "max_pooling2d_1 (MaxPooling2 (None, 36, 36, 32)        0         \n",
            "_________________________________________________________________\n",
            "conv2d_2 (Conv2D)            (None, 34, 34, 64)        18496     \n",
            "_________________________________________________________________\n",
            "max_pooling2d_2 (MaxPooling2 (None, 17, 17, 64)        0         \n",
            "_________________________________________________________________\n",
            "flatten (Flatten)            (None, 18496)             0         \n",
            "_________________________________________________________________\n",
            "dense (Dense)                (None, 512)               9470464   \n",
            "_________________________________________________________________\n",
            "dense_1 (Dense)              (None, 1)                 513       \n",
            "=================================================================\n",
            "Total params: 9,494,561\n",
            "Trainable params: 9,494,561\n",
            "Non-trainable params: 0\n",
            "_________________________________________________________________\n",
            "Found 2000 images belonging to 2 classes.\n",
            "Found 1000 images belonging to 2 classes.\n"
          ],
          "name": "stdout"
        },
        {
          "output_type": "stream",
          "text": [
            "/usr/local/lib/python3.7/dist-packages/tensorflow/python/keras/engine/training.py:1844: UserWarning: `Model.fit_generator` is deprecated and will be removed in a future version. Please use `Model.fit`, which supports generators.\n",
            "  warnings.warn('`Model.fit_generator` is deprecated and '\n"
          ],
          "name": "stderr"
        },
        {
          "output_type": "stream",
          "text": [
            "Epoch 1/30\n",
            "100/100 - 13s - loss: 0.7340 - acc: 0.5565 - val_loss: 0.7617 - val_acc: 0.5520\n",
            "Epoch 2/30\n",
            "100/100 - 10s - loss: 0.6168 - acc: 0.6725 - val_loss: 0.5824 - val_acc: 0.6970\n",
            "Epoch 3/30\n",
            "100/100 - 10s - loss: 0.5446 - acc: 0.7315 - val_loss: 0.6285 - val_acc: 0.6370\n",
            "Epoch 4/30\n",
            "100/100 - 10s - loss: 0.4661 - acc: 0.7765 - val_loss: 0.5657 - val_acc: 0.7400\n",
            "Epoch 5/30\n",
            "100/100 - 10s - loss: 0.3842 - acc: 0.8290 - val_loss: 0.8094 - val_acc: 0.6190\n",
            "Epoch 6/30\n",
            "100/100 - 10s - loss: 0.2939 - acc: 0.8735 - val_loss: 0.6552 - val_acc: 0.7270\n",
            "Epoch 7/30\n",
            "100/100 - 10s - loss: 0.2080 - acc: 0.9105 - val_loss: 1.1291 - val_acc: 0.6640\n",
            "Epoch 8/30\n",
            "100/100 - 10s - loss: 0.1401 - acc: 0.9435 - val_loss: 0.8162 - val_acc: 0.7200\n",
            "Epoch 9/30\n",
            "100/100 - 10s - loss: 0.0943 - acc: 0.9635 - val_loss: 1.1145 - val_acc: 0.7200\n",
            "Epoch 10/30\n",
            "100/100 - 10s - loss: 0.0708 - acc: 0.9760 - val_loss: 1.1399 - val_acc: 0.7140\n",
            "Epoch 11/30\n",
            "100/100 - 10s - loss: 0.0509 - acc: 0.9830 - val_loss: 1.4741 - val_acc: 0.7130\n",
            "Epoch 12/30\n",
            "100/100 - 10s - loss: 0.0618 - acc: 0.9780 - val_loss: 1.3108 - val_acc: 0.7320\n",
            "Epoch 13/30\n",
            "100/100 - 10s - loss: 0.0323 - acc: 0.9875 - val_loss: 1.6633 - val_acc: 0.7250\n",
            "Epoch 14/30\n",
            "100/100 - 10s - loss: 0.0478 - acc: 0.9880 - val_loss: 1.5390 - val_acc: 0.7250\n",
            "Epoch 15/30\n",
            "100/100 - 10s - loss: 0.0507 - acc: 0.9880 - val_loss: 1.6586 - val_acc: 0.7370\n",
            "Epoch 16/30\n",
            "100/100 - 10s - loss: 0.0279 - acc: 0.9925 - val_loss: 1.8706 - val_acc: 0.7240\n",
            "Epoch 17/30\n",
            "100/100 - 10s - loss: 0.0158 - acc: 0.9955 - val_loss: 2.4978 - val_acc: 0.7030\n",
            "Epoch 18/30\n",
            "100/100 - 10s - loss: 0.0277 - acc: 0.9935 - val_loss: 2.1267 - val_acc: 0.7150\n",
            "Epoch 19/30\n",
            "100/100 - 10s - loss: 0.0142 - acc: 0.9965 - val_loss: 1.9707 - val_acc: 0.7200\n",
            "Epoch 20/30\n",
            "100/100 - 10s - loss: 0.0339 - acc: 0.9915 - val_loss: 4.4035 - val_acc: 0.6200\n",
            "Epoch 21/30\n",
            "100/100 - 10s - loss: 0.0342 - acc: 0.9910 - val_loss: 2.6326 - val_acc: 0.7150\n",
            "Epoch 22/30\n",
            "100/100 - 10s - loss: 0.0276 - acc: 0.9935 - val_loss: 2.7676 - val_acc: 0.6930\n",
            "Epoch 23/30\n",
            "100/100 - 10s - loss: 0.0240 - acc: 0.9955 - val_loss: 2.8374 - val_acc: 0.6890\n",
            "Epoch 24/30\n",
            "100/100 - 10s - loss: 0.0238 - acc: 0.9950 - val_loss: 2.5783 - val_acc: 0.7130\n",
            "Epoch 25/30\n",
            "100/100 - 10s - loss: 0.0099 - acc: 0.9965 - val_loss: 2.6978 - val_acc: 0.7250\n",
            "Epoch 26/30\n",
            "100/100 - 10s - loss: 0.0063 - acc: 0.9970 - val_loss: 2.7998 - val_acc: 0.7200\n",
            "Epoch 27/30\n",
            "100/100 - 10s - loss: 0.0248 - acc: 0.9930 - val_loss: 2.7061 - val_acc: 0.7120\n",
            "Epoch 28/30\n",
            "100/100 - 10s - loss: 0.0142 - acc: 0.9955 - val_loss: 2.7353 - val_acc: 0.7490\n",
            "Epoch 29/30\n",
            "100/100 - 10s - loss: 0.0091 - acc: 0.9970 - val_loss: 3.0824 - val_acc: 0.7060\n",
            "Epoch 30/30\n",
            "100/100 - 10s - loss: 0.0085 - acc: 0.9965 - val_loss: 3.7414 - val_acc: 0.7120\n",
            "the test accuracy for this model is:  0.7120000123977661\n"
          ],
          "name": "stdout"
        }
      ]
    },
    {
      "cell_type": "code",
      "metadata": {
        "id": "-RR7OEHcGGVC",
        "colab": {
          "base_uri": "https://localhost:8080/"
        },
        "outputId": "821372cc-8650-4282-d985-95232805c826"
      },
      "source": [
        "#dropout model\n",
        "model_dropout=set_up_model(True)#parameter states that we want dropout\n",
        "history_dropout,validation_generator=data_preprocessing(False,model_dropout)#first parameter is augmentation(which we don't want here), second is the model we just built\n",
        "acc_dropout= model_dropout.evaluate(validation_generator, verbose=0)[1] #test accuracy\n",
        "acc_dictonary[\"dropout\"]=acc_dropout#adding the accuracy to the dictonary so we can check which model gave the best results afterwords\n",
        "print(\"the test accuracy for this model is: \",acc_dropout)#printing the test accuracy\n",
        "#adding the other parameters to a different dictonary in case this is the model that we need to plot later\n",
        "loss_acc_dictonary[\"dropout\"]=[history_dropout.history[\"acc\"],history_dropout.history[\"val_acc\"],history_dropout.history[\"loss\"],history_dropout.history[\"val_loss\"]]\n"
      ],
      "execution_count": null,
      "outputs": [
        {
          "output_type": "stream",
          "text": [
            "Model: \"model_1\"\n",
            "_________________________________________________________________\n",
            "Layer (type)                 Output Shape              Param #   \n",
            "=================================================================\n",
            "input_2 (InputLayer)         [(None, 150, 150, 3)]     0         \n",
            "_________________________________________________________________\n",
            "conv2d_3 (Conv2D)            (None, 148, 148, 16)      448       \n",
            "_________________________________________________________________\n",
            "max_pooling2d_3 (MaxPooling2 (None, 74, 74, 16)        0         \n",
            "_________________________________________________________________\n",
            "conv2d_4 (Conv2D)            (None, 72, 72, 32)        4640      \n",
            "_________________________________________________________________\n",
            "max_pooling2d_4 (MaxPooling2 (None, 36, 36, 32)        0         \n",
            "_________________________________________________________________\n",
            "conv2d_5 (Conv2D)            (None, 34, 34, 64)        18496     \n",
            "_________________________________________________________________\n",
            "max_pooling2d_5 (MaxPooling2 (None, 17, 17, 64)        0         \n",
            "_________________________________________________________________\n",
            "flatten_1 (Flatten)          (None, 18496)             0         \n",
            "_________________________________________________________________\n",
            "dropout (Dropout)            (None, 18496)             0         \n",
            "_________________________________________________________________\n",
            "dense_2 (Dense)              (None, 512)               9470464   \n",
            "_________________________________________________________________\n",
            "dense_3 (Dense)              (None, 1)                 513       \n",
            "=================================================================\n",
            "Total params: 9,494,561\n",
            "Trainable params: 9,494,561\n",
            "Non-trainable params: 0\n",
            "_________________________________________________________________\n",
            "Found 2000 images belonging to 2 classes.\n",
            "Found 1000 images belonging to 2 classes.\n",
            "Epoch 1/30\n"
          ],
          "name": "stdout"
        },
        {
          "output_type": "stream",
          "text": [
            "/usr/local/lib/python3.7/dist-packages/tensorflow/python/keras/engine/training.py:1844: UserWarning: `Model.fit_generator` is deprecated and will be removed in a future version. Please use `Model.fit`, which supports generators.\n",
            "  warnings.warn('`Model.fit_generator` is deprecated and '\n"
          ],
          "name": "stderr"
        },
        {
          "output_type": "stream",
          "text": [
            "100/100 - 11s - loss: 0.7465 - acc: 0.5445 - val_loss: 0.7533 - val_acc: 0.5160\n",
            "Epoch 2/30\n",
            "100/100 - 10s - loss: 0.6334 - acc: 0.6560 - val_loss: 0.6059 - val_acc: 0.6550\n",
            "Epoch 3/30\n",
            "100/100 - 10s - loss: 0.5653 - acc: 0.7115 - val_loss: 0.6316 - val_acc: 0.6300\n",
            "Epoch 4/30\n",
            "100/100 - 10s - loss: 0.5164 - acc: 0.7455 - val_loss: 0.6219 - val_acc: 0.6990\n",
            "Epoch 5/30\n",
            "100/100 - 10s - loss: 0.4582 - acc: 0.7880 - val_loss: 0.5676 - val_acc: 0.7350\n",
            "Epoch 6/30\n",
            "100/100 - 10s - loss: 0.3987 - acc: 0.8175 - val_loss: 0.6122 - val_acc: 0.7270\n",
            "Epoch 7/30\n",
            "100/100 - 10s - loss: 0.3487 - acc: 0.8450 - val_loss: 0.5340 - val_acc: 0.7520\n",
            "Epoch 8/30\n",
            "100/100 - 10s - loss: 0.2912 - acc: 0.8760 - val_loss: 0.6748 - val_acc: 0.6990\n",
            "Epoch 9/30\n",
            "100/100 - 10s - loss: 0.2586 - acc: 0.8940 - val_loss: 0.6821 - val_acc: 0.7440\n",
            "Epoch 10/30\n",
            "100/100 - 10s - loss: 0.2191 - acc: 0.9015 - val_loss: 0.7463 - val_acc: 0.7500\n",
            "Epoch 11/30\n",
            "100/100 - 10s - loss: 0.1956 - acc: 0.9260 - val_loss: 0.8828 - val_acc: 0.7440\n",
            "Epoch 12/30\n",
            "100/100 - 10s - loss: 0.1644 - acc: 0.9320 - val_loss: 0.7215 - val_acc: 0.7440\n",
            "Epoch 13/30\n",
            "100/100 - 10s - loss: 0.1346 - acc: 0.9455 - val_loss: 0.8258 - val_acc: 0.7260\n",
            "Epoch 14/30\n",
            "100/100 - 10s - loss: 0.1061 - acc: 0.9605 - val_loss: 0.9279 - val_acc: 0.7060\n",
            "Epoch 15/30\n",
            "100/100 - 10s - loss: 0.1103 - acc: 0.9620 - val_loss: 0.9351 - val_acc: 0.7360\n",
            "Epoch 16/30\n",
            "100/100 - 10s - loss: 0.0948 - acc: 0.9645 - val_loss: 1.0246 - val_acc: 0.7430\n",
            "Epoch 17/30\n",
            "100/100 - 10s - loss: 0.0813 - acc: 0.9745 - val_loss: 1.3175 - val_acc: 0.7470\n",
            "Epoch 18/30\n",
            "100/100 - 10s - loss: 0.1012 - acc: 0.9680 - val_loss: 0.9393 - val_acc: 0.7310\n",
            "Epoch 19/30\n",
            "100/100 - 10s - loss: 0.0977 - acc: 0.9685 - val_loss: 1.1010 - val_acc: 0.7290\n",
            "Epoch 20/30\n",
            "100/100 - 10s - loss: 0.0759 - acc: 0.9735 - val_loss: 1.7866 - val_acc: 0.7290\n",
            "Epoch 21/30\n",
            "100/100 - 10s - loss: 0.0914 - acc: 0.9675 - val_loss: 1.0684 - val_acc: 0.7380\n",
            "Epoch 22/30\n",
            "100/100 - 10s - loss: 0.0582 - acc: 0.9820 - val_loss: 1.0991 - val_acc: 0.7520\n",
            "Epoch 23/30\n",
            "100/100 - 10s - loss: 0.0762 - acc: 0.9775 - val_loss: 1.1626 - val_acc: 0.7440\n",
            "Epoch 24/30\n",
            "100/100 - 10s - loss: 0.0764 - acc: 0.9830 - val_loss: 1.1317 - val_acc: 0.7560\n",
            "Epoch 25/30\n",
            "100/100 - 10s - loss: 0.0523 - acc: 0.9840 - val_loss: 1.2110 - val_acc: 0.7630\n",
            "Epoch 26/30\n",
            "100/100 - 10s - loss: 0.0624 - acc: 0.9800 - val_loss: 1.0206 - val_acc: 0.7470\n",
            "Epoch 27/30\n",
            "100/100 - 10s - loss: 0.0646 - acc: 0.9790 - val_loss: 1.4156 - val_acc: 0.7410\n",
            "Epoch 28/30\n",
            "100/100 - 10s - loss: 0.0616 - acc: 0.9785 - val_loss: 1.7658 - val_acc: 0.7570\n",
            "Epoch 29/30\n",
            "100/100 - 10s - loss: 0.0598 - acc: 0.9810 - val_loss: 1.3164 - val_acc: 0.7600\n",
            "Epoch 30/30\n",
            "100/100 - 10s - loss: 0.0508 - acc: 0.9845 - val_loss: 1.7413 - val_acc: 0.7610\n",
            "the test accuracy for this model is:  0.7609999775886536\n"
          ],
          "name": "stdout"
        }
      ]
    },
    {
      "cell_type": "code",
      "metadata": {
        "id": "yCgxG35qGM70",
        "colab": {
          "base_uri": "https://localhost:8080/"
        },
        "outputId": "1fd3ae23-c28f-4e9e-d957-d76d53716642"
      },
      "source": [
        "\n",
        "#augmentation model\n",
        "model_augmentation=set_up_model(False)#paramter is if we want dropout or not(in this model, we don't want dropout)\n",
        "history_augmentation,validation_generator=data_preprocessing(True,model_augmentation)#first parameter is augmentation (which we want in this model), the second is the model we just built\n",
        "acc_augmentation= model_augmentation.evaluate(validation_generator, verbose=0)[1]#test accuracy\n",
        "acc_dictonary[\"augmentation\"]=acc_augmentation#adding it to a dictonary so we can check which model has the best results after words\n",
        "print(\"the test accuracy for this model is: \",acc_augmentation)#printing the test accuracy\n",
        "#adding the other parameters to a different dictonary in case we need to plot them\n",
        "loss_acc_dictonary[\"augmentation\"]=[history_augmentation.history[\"acc\"],history_augmentation.history[\"val_acc\"],history_augmentation.history[\"loss\"],history_augmentation.history[\"val_loss\"]]\n",
        "\n"
      ],
      "execution_count": null,
      "outputs": [
        {
          "output_type": "stream",
          "text": [
            "Model: \"model_2\"\n",
            "_________________________________________________________________\n",
            "Layer (type)                 Output Shape              Param #   \n",
            "=================================================================\n",
            "input_3 (InputLayer)         [(None, 150, 150, 3)]     0         \n",
            "_________________________________________________________________\n",
            "conv2d_6 (Conv2D)            (None, 148, 148, 16)      448       \n",
            "_________________________________________________________________\n",
            "max_pooling2d_6 (MaxPooling2 (None, 74, 74, 16)        0         \n",
            "_________________________________________________________________\n",
            "conv2d_7 (Conv2D)            (None, 72, 72, 32)        4640      \n",
            "_________________________________________________________________\n",
            "max_pooling2d_7 (MaxPooling2 (None, 36, 36, 32)        0         \n",
            "_________________________________________________________________\n",
            "conv2d_8 (Conv2D)            (None, 34, 34, 64)        18496     \n",
            "_________________________________________________________________\n",
            "max_pooling2d_8 (MaxPooling2 (None, 17, 17, 64)        0         \n",
            "_________________________________________________________________\n",
            "flatten_2 (Flatten)          (None, 18496)             0         \n",
            "_________________________________________________________________\n",
            "dense_4 (Dense)              (None, 512)               9470464   \n",
            "_________________________________________________________________\n",
            "dense_5 (Dense)              (None, 1)                 513       \n",
            "=================================================================\n",
            "Total params: 9,494,561\n",
            "Trainable params: 9,494,561\n",
            "Non-trainable params: 0\n",
            "_________________________________________________________________\n",
            "Found 2000 images belonging to 2 classes.\n",
            "Found 1000 images belonging to 2 classes.\n"
          ],
          "name": "stdout"
        },
        {
          "output_type": "stream",
          "text": [
            "/usr/local/lib/python3.7/dist-packages/tensorflow/python/keras/engine/training.py:1844: UserWarning: `Model.fit_generator` is deprecated and will be removed in a future version. Please use `Model.fit`, which supports generators.\n",
            "  warnings.warn('`Model.fit_generator` is deprecated and '\n"
          ],
          "name": "stderr"
        },
        {
          "output_type": "stream",
          "text": [
            "Epoch 1/30\n",
            "100/100 - 21s - loss: 0.7631 - acc: 0.5435 - val_loss: 0.7244 - val_acc: 0.5020\n",
            "Epoch 2/30\n",
            "100/100 - 20s - loss: 0.6707 - acc: 0.5860 - val_loss: 0.6345 - val_acc: 0.6590\n",
            "Epoch 3/30\n",
            "100/100 - 20s - loss: 0.6498 - acc: 0.6240 - val_loss: 0.6036 - val_acc: 0.6840\n",
            "Epoch 4/30\n",
            "100/100 - 20s - loss: 0.6267 - acc: 0.6500 - val_loss: 0.6326 - val_acc: 0.6640\n",
            "Epoch 5/30\n",
            "100/100 - 20s - loss: 0.6337 - acc: 0.6605 - val_loss: 0.6472 - val_acc: 0.6800\n",
            "Epoch 6/30\n",
            "100/100 - 20s - loss: 0.6138 - acc: 0.6530 - val_loss: 0.5664 - val_acc: 0.7060\n",
            "Epoch 7/30\n",
            "100/100 - 20s - loss: 0.6141 - acc: 0.6690 - val_loss: 0.5652 - val_acc: 0.7100\n",
            "Epoch 8/30\n",
            "100/100 - 20s - loss: 0.5996 - acc: 0.6780 - val_loss: 0.5604 - val_acc: 0.6920\n",
            "Epoch 9/30\n",
            "100/100 - 20s - loss: 0.5980 - acc: 0.6890 - val_loss: 0.5561 - val_acc: 0.7330\n",
            "Epoch 10/30\n",
            "100/100 - 20s - loss: 0.5738 - acc: 0.6975 - val_loss: 0.5712 - val_acc: 0.7030\n",
            "Epoch 11/30\n",
            "100/100 - 20s - loss: 0.5765 - acc: 0.7015 - val_loss: 0.5429 - val_acc: 0.7270\n",
            "Epoch 12/30\n",
            "100/100 - 20s - loss: 0.5782 - acc: 0.6930 - val_loss: 0.5366 - val_acc: 0.7340\n",
            "Epoch 13/30\n",
            "100/100 - 20s - loss: 0.5800 - acc: 0.7025 - val_loss: 0.5694 - val_acc: 0.6990\n",
            "Epoch 14/30\n",
            "100/100 - 20s - loss: 0.5679 - acc: 0.7130 - val_loss: 0.5854 - val_acc: 0.7000\n",
            "Epoch 15/30\n",
            "100/100 - 20s - loss: 0.5556 - acc: 0.7215 - val_loss: 0.5080 - val_acc: 0.7570\n",
            "Epoch 16/30\n",
            "100/100 - 20s - loss: 0.5632 - acc: 0.7155 - val_loss: 0.5515 - val_acc: 0.6890\n",
            "Epoch 17/30\n",
            "100/100 - 20s - loss: 0.5563 - acc: 0.7255 - val_loss: 0.6590 - val_acc: 0.6830\n",
            "Epoch 18/30\n",
            "100/100 - 20s - loss: 0.5667 - acc: 0.7120 - val_loss: 0.5199 - val_acc: 0.7570\n",
            "Epoch 19/30\n",
            "100/100 - 20s - loss: 0.5436 - acc: 0.7135 - val_loss: 0.5151 - val_acc: 0.7230\n",
            "Epoch 20/30\n",
            "100/100 - 20s - loss: 0.5584 - acc: 0.7235 - val_loss: 0.4941 - val_acc: 0.7550\n",
            "Epoch 21/30\n",
            "100/100 - 20s - loss: 0.5383 - acc: 0.7315 - val_loss: 0.5399 - val_acc: 0.7170\n",
            "Epoch 22/30\n",
            "100/100 - 20s - loss: 0.5434 - acc: 0.7215 - val_loss: 0.5117 - val_acc: 0.7540\n",
            "Epoch 23/30\n",
            "100/100 - 20s - loss: 0.5311 - acc: 0.7395 - val_loss: 0.4802 - val_acc: 0.7700\n",
            "Epoch 24/30\n",
            "100/100 - 20s - loss: 0.5305 - acc: 0.7405 - val_loss: 0.5113 - val_acc: 0.7650\n",
            "Epoch 25/30\n",
            "100/100 - 20s - loss: 0.5400 - acc: 0.7270 - val_loss: 0.4831 - val_acc: 0.7720\n",
            "Epoch 26/30\n",
            "100/100 - 20s - loss: 0.5240 - acc: 0.7465 - val_loss: 0.5052 - val_acc: 0.7500\n",
            "Epoch 27/30\n",
            "100/100 - 20s - loss: 0.5065 - acc: 0.7565 - val_loss: 0.4820 - val_acc: 0.7680\n",
            "Epoch 28/30\n",
            "100/100 - 20s - loss: 0.5200 - acc: 0.7420 - val_loss: 0.5208 - val_acc: 0.7490\n",
            "Epoch 29/30\n",
            "100/100 - 20s - loss: 0.5177 - acc: 0.7485 - val_loss: 0.5057 - val_acc: 0.7480\n",
            "Epoch 30/30\n",
            "100/100 - 20s - loss: 0.5191 - acc: 0.7340 - val_loss: 0.4697 - val_acc: 0.7790\n",
            "the test accuracy for this model is:  0.7789999842643738\n"
          ],
          "name": "stdout"
        }
      ]
    },
    {
      "cell_type": "code",
      "metadata": {
        "id": "_DpBZXvIGO7S",
        "colab": {
          "base_uri": "https://localhost:8080/"
        },
        "outputId": "102361d7-c6c8-4ca4-9c59-e1321043a6be"
      },
      "source": [
        "\n",
        "#dropout and augmentation model\n",
        "model_dropout_augmentation=set_up_model(True)#paramters states that we want dropout\n",
        "history_dropout_augmentation,validation_generator=data_preprocessing(True,model_dropout_augmentation)#first parameter states that we want augmentation is this model, the second is the model that we just set up\n",
        "acc_dropout_augmentation= model_dropout_augmentation.evaluate(validation_generator, verbose=0)[1]#test accuracy\n",
        "acc_dictonary[\"dropout_augmentation\"]=acc_dropout_augmentation#adding the accuracy to a dictonary so we can check which model gives the best results\n",
        "print(\"the test accuracy for this model is: \",acc_dropout_augmentation)#printing the test accuracy\n",
        "#adding the other parameters to a different graph in case we need to plot this model\n",
        "loss_acc_dictonary[\"dropout_augmentation\"]=[history_dropout_augmentation.history[\"acc\"],history_dropout_augmentation.history[\"val_acc\"],history_dropout_augmentation.history[\"loss\"],history_dropout_augmentation.history[\"val_loss\"]]\n",
        "\n"
      ],
      "execution_count": null,
      "outputs": [
        {
          "output_type": "stream",
          "text": [
            "Model: \"model_3\"\n",
            "_________________________________________________________________\n",
            "Layer (type)                 Output Shape              Param #   \n",
            "=================================================================\n",
            "input_4 (InputLayer)         [(None, 150, 150, 3)]     0         \n",
            "_________________________________________________________________\n",
            "conv2d_9 (Conv2D)            (None, 148, 148, 16)      448       \n",
            "_________________________________________________________________\n",
            "max_pooling2d_9 (MaxPooling2 (None, 74, 74, 16)        0         \n",
            "_________________________________________________________________\n",
            "conv2d_10 (Conv2D)           (None, 72, 72, 32)        4640      \n",
            "_________________________________________________________________\n",
            "max_pooling2d_10 (MaxPooling (None, 36, 36, 32)        0         \n",
            "_________________________________________________________________\n",
            "conv2d_11 (Conv2D)           (None, 34, 34, 64)        18496     \n",
            "_________________________________________________________________\n",
            "max_pooling2d_11 (MaxPooling (None, 17, 17, 64)        0         \n",
            "_________________________________________________________________\n",
            "flatten_3 (Flatten)          (None, 18496)             0         \n",
            "_________________________________________________________________\n",
            "dropout_1 (Dropout)          (None, 18496)             0         \n",
            "_________________________________________________________________\n",
            "dense_6 (Dense)              (None, 512)               9470464   \n",
            "_________________________________________________________________\n",
            "dense_7 (Dense)              (None, 1)                 513       \n",
            "=================================================================\n",
            "Total params: 9,494,561\n",
            "Trainable params: 9,494,561\n",
            "Non-trainable params: 0\n",
            "_________________________________________________________________\n",
            "Found 2000 images belonging to 2 classes.\n",
            "Found 1000 images belonging to 2 classes.\n"
          ],
          "name": "stdout"
        },
        {
          "output_type": "stream",
          "text": [
            "/usr/local/lib/python3.7/dist-packages/tensorflow/python/keras/engine/training.py:1844: UserWarning: `Model.fit_generator` is deprecated and will be removed in a future version. Please use `Model.fit`, which supports generators.\n",
            "  warnings.warn('`Model.fit_generator` is deprecated and '\n"
          ],
          "name": "stderr"
        },
        {
          "output_type": "stream",
          "text": [
            "Epoch 1/30\n",
            "100/100 - 21s - loss: 0.7638 - acc: 0.5210 - val_loss: 0.7213 - val_acc: 0.5330\n",
            "Epoch 2/30\n",
            "100/100 - 20s - loss: 0.6760 - acc: 0.5740 - val_loss: 0.6262 - val_acc: 0.6310\n",
            "Epoch 3/30\n",
            "100/100 - 20s - loss: 0.6422 - acc: 0.6240 - val_loss: 0.7320 - val_acc: 0.5410\n",
            "Epoch 4/30\n",
            "100/100 - 20s - loss: 0.6305 - acc: 0.6535 - val_loss: 0.6988 - val_acc: 0.5960\n",
            "Epoch 5/30\n",
            "100/100 - 20s - loss: 0.6317 - acc: 0.6525 - val_loss: 0.6044 - val_acc: 0.6790\n",
            "Epoch 6/30\n",
            "100/100 - 20s - loss: 0.6243 - acc: 0.6635 - val_loss: 0.6499 - val_acc: 0.6170\n",
            "Epoch 7/30\n",
            "100/100 - 20s - loss: 0.6177 - acc: 0.6485 - val_loss: 0.5866 - val_acc: 0.6940\n",
            "Epoch 8/30\n",
            "100/100 - 20s - loss: 0.6147 - acc: 0.6575 - val_loss: 0.5995 - val_acc: 0.6740\n",
            "Epoch 9/30\n",
            "100/100 - 20s - loss: 0.6082 - acc: 0.6730 - val_loss: 0.6168 - val_acc: 0.6790\n",
            "Epoch 10/30\n",
            "100/100 - 20s - loss: 0.6070 - acc: 0.6760 - val_loss: 0.6009 - val_acc: 0.7050\n",
            "Epoch 11/30\n",
            "100/100 - 20s - loss: 0.6042 - acc: 0.6655 - val_loss: 0.5555 - val_acc: 0.7110\n",
            "Epoch 12/30\n",
            "100/100 - 20s - loss: 0.5983 - acc: 0.6830 - val_loss: 0.5623 - val_acc: 0.7010\n",
            "Epoch 13/30\n",
            "100/100 - 20s - loss: 0.5814 - acc: 0.6950 - val_loss: 0.6124 - val_acc: 0.6810\n",
            "Epoch 14/30\n",
            "100/100 - 20s - loss: 0.5981 - acc: 0.6980 - val_loss: 0.5489 - val_acc: 0.7200\n",
            "Epoch 15/30\n",
            "100/100 - 20s - loss: 0.5996 - acc: 0.6830 - val_loss: 0.5453 - val_acc: 0.7220\n",
            "Epoch 16/30\n",
            "100/100 - 20s - loss: 0.5715 - acc: 0.7150 - val_loss: 0.5271 - val_acc: 0.7290\n",
            "Epoch 17/30\n",
            "100/100 - 20s - loss: 0.5847 - acc: 0.7080 - val_loss: 0.6225 - val_acc: 0.7010\n",
            "Epoch 18/30\n",
            "100/100 - 20s - loss: 0.5701 - acc: 0.7135 - val_loss: 0.5443 - val_acc: 0.7210\n",
            "Epoch 19/30\n",
            "100/100 - 20s - loss: 0.5677 - acc: 0.7040 - val_loss: 0.7552 - val_acc: 0.6320\n",
            "Epoch 20/30\n",
            "100/100 - 20s - loss: 0.5864 - acc: 0.7130 - val_loss: 0.5616 - val_acc: 0.7000\n",
            "Epoch 21/30\n",
            "100/100 - 20s - loss: 0.5525 - acc: 0.7190 - val_loss: 0.5692 - val_acc: 0.7050\n",
            "Epoch 22/30\n",
            "100/100 - 20s - loss: 0.5522 - acc: 0.7230 - val_loss: 0.5555 - val_acc: 0.7110\n",
            "Epoch 23/30\n",
            "100/100 - 20s - loss: 0.5553 - acc: 0.7170 - val_loss: 0.5462 - val_acc: 0.7250\n",
            "Epoch 24/30\n",
            "100/100 - 20s - loss: 0.5581 - acc: 0.7225 - val_loss: 0.5710 - val_acc: 0.7130\n",
            "Epoch 25/30\n",
            "100/100 - 20s - loss: 0.5411 - acc: 0.7320 - val_loss: 0.5464 - val_acc: 0.7010\n",
            "Epoch 26/30\n",
            "100/100 - 20s - loss: 0.5559 - acc: 0.7180 - val_loss: 0.5223 - val_acc: 0.7320\n",
            "Epoch 27/30\n",
            "100/100 - 20s - loss: 0.5458 - acc: 0.7310 - val_loss: 0.5248 - val_acc: 0.7480\n",
            "Epoch 28/30\n",
            "100/100 - 20s - loss: 0.5489 - acc: 0.7285 - val_loss: 0.5010 - val_acc: 0.7490\n",
            "Epoch 29/30\n",
            "100/100 - 20s - loss: 0.5495 - acc: 0.7235 - val_loss: 0.6402 - val_acc: 0.6620\n",
            "Epoch 30/30\n",
            "100/100 - 20s - loss: 0.5399 - acc: 0.7340 - val_loss: 0.5383 - val_acc: 0.7230\n",
            "the test accuracy for this model is:  0.7229999899864197\n"
          ],
          "name": "stdout"
        }
      ]
    },
    {
      "cell_type": "code",
      "metadata": {
        "id": "OG-oxTjvGRBa",
        "colab": {
          "base_uri": "https://localhost:8080/",
          "height": 597
        },
        "outputId": "8b14b1a2-6281-4078-ce62-528168831c49"
      },
      "source": [
        "import matplotlib.pyplot as plt\n",
        "import matplotlib.image as mpimg\n",
        "#printing the dictonary out - another way to verify our results\n",
        "print(acc_dictonary)\n",
        "\n",
        "#finding the model which gives the best results\n",
        "max_acc=max(acc_dictonary, key=acc_dictonary.get)#finds the key which has the max value\n",
        "print(\"the model: \", max_acc, \" has the max accuracy of \", acc_dictonary[max_acc])\n",
        "\n",
        "#taking the parameters we need for graphing the results of the best model\n",
        "acc,val_acc,loss,val_loss= loss_acc_dictonary[max_acc]\n",
        "\n",
        "# Get number of epochs\n",
        "epochs = range(len(acc))\n",
        "\n",
        "# Plot training and validation accuracy per epoch for the model with the best results\n",
        "plt.plot(epochs, acc,label=\"train accuracy\",color='#013056')\n",
        "plt.plot(epochs, val_acc,label=\"test accuracy\",color='#00c4c9' )\n",
        "plt.legend() #shows the box on the graph that has the line name and color\n",
        "plt.title('Training and validation accuracy for max accuracy model')\n",
        "\n",
        "plt.figure()\n",
        "\n",
        "# Plot training and validation loss per epoch for the model with the best results\n",
        "plt.plot(epochs, loss,label=\"train loss\",color='#013056')\n",
        "plt.plot(epochs, val_loss,label=\"test loss\",color='#00c4c9' )\n",
        "plt.legend() #shows the box on the graph that has the line name and color\n",
        "plt.title('Training and validation loss for max accuracy model')\n"
      ],
      "execution_count": null,
      "outputs": [
        {
          "output_type": "stream",
          "text": [
            "{'none': 0.7120000123977661, 'dropout': 0.7609999775886536, 'augmentation': 0.7789999842643738, 'dropout_augmentation': 0.7229999899864197}\n",
            "the model:  augmentation  has the max accuracy of  0.7789999842643738\n"
          ],
          "name": "stdout"
        },
        {
          "output_type": "execute_result",
          "data": {
            "text/plain": [
              "Text(0.5, 1.0, 'Training and validation loss for max accuracy model')"
            ]
          },
          "metadata": {
            "tags": []
          },
          "execution_count": 15
        },
        {
          "output_type": "display_data",
          "data": {
            "image/png": "[encoded data removed]",
            "text/plain": [
              "<Figure size 432x288 with 1 Axes>"
            ]
          },
          "metadata": {
            "tags": [],
            "needs_background": "light"
          }
        },
        {
          "output_type": "display_data",
          "data": {
            "image/png": "[encoded data removed]",
            "text/plain": [
              "<Figure size 432x288 with 1 Axes>"
            ]
          },
          "metadata": {
            "tags": [],
            "needs_background": "light"
          }
        }
      ]
    },
    {
      "cell_type": "markdown",
      "metadata": {
        "id": "jp3h74NmXYHz"
      },
      "source": [
        "code for getting 95% or more accuracy : https://colab.research.google.com/drive/1-b8DiITyMJgzMfeDaAu5n9x-6rV87_Md?usp=sharing"
      ]
    }
  ]
}